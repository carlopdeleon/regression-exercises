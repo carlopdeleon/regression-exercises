{
 "cells": [
  {
   "cell_type": "code",
   "execution_count": 1,
   "id": "845a2109",
   "metadata": {},
   "outputs": [],
   "source": [
    "import pandas as pd\n",
    "import numpy as np\n",
    "from pydataset import data\n",
    "import os\n",
    "import env\n",
    "import acquire as a\n",
    "import prepare as p\n",
    "import wrangle as w\n",
    "\n",
    "#Stats imports\n",
    "from scipy import stats\n",
    "from scipy.stats import pearsonr, spearmanr\n",
    "\n",
    "#visual imports\n",
    "import matplotlib.pyplot as plt\n",
    "import seaborn as sns\n",
    "%matplotlib inline\n",
    "\n",
    "#sklearn split, impute, math stuff\n",
    "from sklearn.model_selection import train_test_split\n",
    "from sklearn.impute import SimpleImputer\n",
    "from sklearn.metrics import mean_squared_error, r2_score, explained_variance_score\n",
    "\n",
    "# Scalers\n",
    "from sklearn.preprocessing import RobustScaler\n",
    "from sklearn.preprocessing import StandardScaler\n",
    "from sklearn.preprocessing import MinMaxScaler\n",
    "\n",
    "# modeling methods\n",
    "from sklearn.feature_selection import SelectKBest, f_regression\n",
    "from sklearn.feature_selection import RFE\n",
    "from sklearn.linear_model import LinearRegression, LassoLars, TweedieRegressor\n",
    "from sklearn.preprocessing import PolynomialFeatures\n",
    "from sklearn.linear_model import LogisticRegression\n",
    "\n",
    "\n",
    "import warnings\n",
    "warnings.filterwarnings(\"ignore\")"
   ]
  },
  {
   "cell_type": "markdown",
   "id": "14cd2a02",
   "metadata": {},
   "source": [
    "## Select a dataset with a continuous target variable."
   ]
  },
  {
   "cell_type": "code",
   "execution_count": 2,
   "id": "11a7d1a8",
   "metadata": {},
   "outputs": [
    {
     "data": {
      "text/html": [
       "<div>\n",
       "<style scoped>\n",
       "    .dataframe tbody tr th:only-of-type {\n",
       "        vertical-align: middle;\n",
       "    }\n",
       "\n",
       "    .dataframe tbody tr th {\n",
       "        vertical-align: top;\n",
       "    }\n",
       "\n",
       "    .dataframe thead th {\n",
       "        text-align: right;\n",
       "    }\n",
       "</style>\n",
       "<table border=\"1\" class=\"dataframe\">\n",
       "  <thead>\n",
       "    <tr style=\"text-align: right;\">\n",
       "      <th></th>\n",
       "      <th>bedrooms</th>\n",
       "      <th>bathrooms</th>\n",
       "      <th>sq_ft</th>\n",
       "      <th>tax_value</th>\n",
       "      <th>year</th>\n",
       "      <th>tax_amount</th>\n",
       "      <th>fips</th>\n",
       "      <th>tax_rate</th>\n",
       "    </tr>\n",
       "  </thead>\n",
       "  <tbody>\n",
       "    <tr>\n",
       "      <th>0</th>\n",
       "      <td>2.0</td>\n",
       "      <td>1.0</td>\n",
       "      <td>1412.0</td>\n",
       "      <td>222671.0</td>\n",
       "      <td>1947.0</td>\n",
       "      <td>2954.03</td>\n",
       "      <td>6037.0</td>\n",
       "      <td>1.326634</td>\n",
       "    </tr>\n",
       "    <tr>\n",
       "      <th>1</th>\n",
       "      <td>3.0</td>\n",
       "      <td>2.0</td>\n",
       "      <td>1296.0</td>\n",
       "      <td>64968.0</td>\n",
       "      <td>1955.0</td>\n",
       "      <td>909.28</td>\n",
       "      <td>6037.0</td>\n",
       "      <td>1.399581</td>\n",
       "    </tr>\n",
       "    <tr>\n",
       "      <th>2</th>\n",
       "      <td>3.0</td>\n",
       "      <td>1.0</td>\n",
       "      <td>1044.0</td>\n",
       "      <td>126800.0</td>\n",
       "      <td>1947.0</td>\n",
       "      <td>1767.69</td>\n",
       "      <td>6037.0</td>\n",
       "      <td>1.394077</td>\n",
       "    </tr>\n",
       "  </tbody>\n",
       "</table>\n",
       "</div>"
      ],
      "text/plain": [
       "   bedrooms  bathrooms   sq_ft  tax_value    year  tax_amount    fips  \\\n",
       "0       2.0        1.0  1412.0   222671.0  1947.0     2954.03  6037.0   \n",
       "1       3.0        2.0  1296.0    64968.0  1955.0      909.28  6037.0   \n",
       "2       3.0        1.0  1044.0   126800.0  1947.0     1767.69  6037.0   \n",
       "\n",
       "   tax_rate  \n",
       "0  1.326634  \n",
       "1  1.399581  \n",
       "2  1.394077  "
      ]
     },
     "execution_count": 2,
     "metadata": {},
     "output_type": "execute_result"
    }
   ],
   "source": [
    "df = w.wrangle_zillow()\n",
    "df.head(3)"
   ]
  },
  {
   "cell_type": "markdown",
   "id": "c63fc4ae",
   "metadata": {},
   "source": [
    "## Be sure your data is prepared (no missing values, numeric datatypes) and split into samples."
   ]
  },
  {
   "cell_type": "code",
   "execution_count": 3,
   "id": "1916c92d",
   "metadata": {},
   "outputs": [
    {
     "name": "stdout",
     "output_type": "stream",
     "text": [
      "<class 'pandas.core.frame.DataFrame'>\n",
      "Int64Index: 55725 entries, 0 to 56078\n",
      "Data columns (total 8 columns):\n",
      " #   Column      Non-Null Count  Dtype  \n",
      "---  ------      --------------  -----  \n",
      " 0   bedrooms    55725 non-null  float64\n",
      " 1   bathrooms   55725 non-null  float64\n",
      " 2   sq_ft       55725 non-null  float64\n",
      " 3   tax_value   55725 non-null  float64\n",
      " 4   year        55725 non-null  float64\n",
      " 5   tax_amount  55725 non-null  float64\n",
      " 6   fips        55725 non-null  float64\n",
      " 7   tax_rate    55725 non-null  float64\n",
      "dtypes: float64(8)\n",
      "memory usage: 3.8 MB\n"
     ]
    }
   ],
   "source": [
    "df.info()"
   ]
  },
  {
   "cell_type": "code",
   "execution_count": 4,
   "id": "832160fe",
   "metadata": {},
   "outputs": [
    {
     "data": {
      "text/plain": [
       "bedrooms      0\n",
       "bathrooms     0\n",
       "sq_ft         0\n",
       "tax_value     0\n",
       "year          0\n",
       "tax_amount    0\n",
       "fips          0\n",
       "tax_rate      0\n",
       "dtype: int64"
      ]
     },
     "execution_count": 4,
     "metadata": {},
     "output_type": "execute_result"
    }
   ],
   "source": [
    "df.isna().sum()"
   ]
  },
  {
   "cell_type": "code",
   "execution_count": 5,
   "id": "b020cd5f",
   "metadata": {},
   "outputs": [
    {
     "data": {
      "text/plain": [
       "sq_ft    5272.76\n",
       "Name: 0.99, dtype: float64"
      ]
     },
     "execution_count": 5,
     "metadata": {},
     "output_type": "execute_result"
    }
   ],
   "source": [
    "df[['sq_ft']].quantile(.99)"
   ]
  },
  {
   "cell_type": "code",
   "execution_count": 6,
   "id": "b954b833",
   "metadata": {},
   "outputs": [
    {
     "data": {
      "text/html": [
       "<div>\n",
       "<style scoped>\n",
       "    .dataframe tbody tr th:only-of-type {\n",
       "        vertical-align: middle;\n",
       "    }\n",
       "\n",
       "    .dataframe tbody tr th {\n",
       "        vertical-align: top;\n",
       "    }\n",
       "\n",
       "    .dataframe thead th {\n",
       "        text-align: right;\n",
       "    }\n",
       "</style>\n",
       "<table border=\"1\" class=\"dataframe\">\n",
       "  <thead>\n",
       "    <tr style=\"text-align: right;\">\n",
       "      <th></th>\n",
       "      <th>bedrooms</th>\n",
       "      <th>bathrooms</th>\n",
       "      <th>sq_ft</th>\n",
       "      <th>tax_value</th>\n",
       "      <th>year</th>\n",
       "      <th>tax_amount</th>\n",
       "      <th>fips</th>\n",
       "      <th>tax_rate</th>\n",
       "    </tr>\n",
       "  </thead>\n",
       "  <tbody>\n",
       "    <tr>\n",
       "      <th>320</th>\n",
       "      <td>5.0</td>\n",
       "      <td>5.0</td>\n",
       "      <td>5889.0</td>\n",
       "      <td>1776686.0</td>\n",
       "      <td>1987.0</td>\n",
       "      <td>19718.30</td>\n",
       "      <td>6037.0</td>\n",
       "      <td>1.109836</td>\n",
       "    </tr>\n",
       "    <tr>\n",
       "      <th>384</th>\n",
       "      <td>5.0</td>\n",
       "      <td>8.0</td>\n",
       "      <td>7711.0</td>\n",
       "      <td>4390833.0</td>\n",
       "      <td>1936.0</td>\n",
       "      <td>52907.33</td>\n",
       "      <td>6037.0</td>\n",
       "      <td>1.204950</td>\n",
       "    </tr>\n",
       "    <tr>\n",
       "      <th>427</th>\n",
       "      <td>3.0</td>\n",
       "      <td>4.0</td>\n",
       "      <td>5374.0</td>\n",
       "      <td>715938.0</td>\n",
       "      <td>1992.0</td>\n",
       "      <td>8928.39</td>\n",
       "      <td>6037.0</td>\n",
       "      <td>1.247090</td>\n",
       "    </tr>\n",
       "    <tr>\n",
       "      <th>563</th>\n",
       "      <td>5.0</td>\n",
       "      <td>6.0</td>\n",
       "      <td>5542.0</td>\n",
       "      <td>2884344.0</td>\n",
       "      <td>1987.0</td>\n",
       "      <td>34861.44</td>\n",
       "      <td>6037.0</td>\n",
       "      <td>1.208644</td>\n",
       "    </tr>\n",
       "    <tr>\n",
       "      <th>573</th>\n",
       "      <td>4.0</td>\n",
       "      <td>4.0</td>\n",
       "      <td>5579.0</td>\n",
       "      <td>2114051.0</td>\n",
       "      <td>1989.0</td>\n",
       "      <td>25512.79</td>\n",
       "      <td>6037.0</td>\n",
       "      <td>1.206820</td>\n",
       "    </tr>\n",
       "    <tr>\n",
       "      <th>...</th>\n",
       "      <td>...</td>\n",
       "      <td>...</td>\n",
       "      <td>...</td>\n",
       "      <td>...</td>\n",
       "      <td>...</td>\n",
       "      <td>...</td>\n",
       "      <td>...</td>\n",
       "      <td>...</td>\n",
       "    </tr>\n",
       "    <tr>\n",
       "      <th>54969</th>\n",
       "      <td>5.0</td>\n",
       "      <td>5.5</td>\n",
       "      <td>5742.0</td>\n",
       "      <td>1429895.0</td>\n",
       "      <td>1998.0</td>\n",
       "      <td>14771.56</td>\n",
       "      <td>6059.0</td>\n",
       "      <td>1.033052</td>\n",
       "    </tr>\n",
       "    <tr>\n",
       "      <th>55027</th>\n",
       "      <td>4.0</td>\n",
       "      <td>4.5</td>\n",
       "      <td>5432.0</td>\n",
       "      <td>1389287.0</td>\n",
       "      <td>1988.0</td>\n",
       "      <td>14261.52</td>\n",
       "      <td>6059.0</td>\n",
       "      <td>1.026535</td>\n",
       "    </tr>\n",
       "    <tr>\n",
       "      <th>55054</th>\n",
       "      <td>5.0</td>\n",
       "      <td>4.5</td>\n",
       "      <td>6227.0</td>\n",
       "      <td>1340882.0</td>\n",
       "      <td>1984.0</td>\n",
       "      <td>13834.88</td>\n",
       "      <td>6059.0</td>\n",
       "      <td>1.031775</td>\n",
       "    </tr>\n",
       "    <tr>\n",
       "      <th>55514</th>\n",
       "      <td>8.0</td>\n",
       "      <td>6.0</td>\n",
       "      <td>7182.0</td>\n",
       "      <td>1421000.0</td>\n",
       "      <td>1984.0</td>\n",
       "      <td>17443.19</td>\n",
       "      <td>6037.0</td>\n",
       "      <td>1.227529</td>\n",
       "    </tr>\n",
       "    <tr>\n",
       "      <th>56002</th>\n",
       "      <td>6.0</td>\n",
       "      <td>6.0</td>\n",
       "      <td>7354.0</td>\n",
       "      <td>3135852.0</td>\n",
       "      <td>1984.0</td>\n",
       "      <td>38356.01</td>\n",
       "      <td>6037.0</td>\n",
       "      <td>1.223145</td>\n",
       "    </tr>\n",
       "  </tbody>\n",
       "</table>\n",
       "<p>562 rows × 8 columns</p>\n",
       "</div>"
      ],
      "text/plain": [
       "       bedrooms  bathrooms   sq_ft  tax_value    year  tax_amount    fips  \\\n",
       "320         5.0        5.0  5889.0  1776686.0  1987.0    19718.30  6037.0   \n",
       "384         5.0        8.0  7711.0  4390833.0  1936.0    52907.33  6037.0   \n",
       "427         3.0        4.0  5374.0   715938.0  1992.0     8928.39  6037.0   \n",
       "563         5.0        6.0  5542.0  2884344.0  1987.0    34861.44  6037.0   \n",
       "573         4.0        4.0  5579.0  2114051.0  1989.0    25512.79  6037.0   \n",
       "...         ...        ...     ...        ...     ...         ...     ...   \n",
       "54969       5.0        5.5  5742.0  1429895.0  1998.0    14771.56  6059.0   \n",
       "55027       4.0        4.5  5432.0  1389287.0  1988.0    14261.52  6059.0   \n",
       "55054       5.0        4.5  6227.0  1340882.0  1984.0    13834.88  6059.0   \n",
       "55514       8.0        6.0  7182.0  1421000.0  1984.0    17443.19  6037.0   \n",
       "56002       6.0        6.0  7354.0  3135852.0  1984.0    38356.01  6037.0   \n",
       "\n",
       "       tax_rate  \n",
       "320    1.109836  \n",
       "384    1.204950  \n",
       "427    1.247090  \n",
       "563    1.208644  \n",
       "573    1.206820  \n",
       "...         ...  \n",
       "54969  1.033052  \n",
       "55027  1.026535  \n",
       "55054  1.031775  \n",
       "55514  1.227529  \n",
       "56002  1.223145  \n",
       "\n",
       "[562 rows x 8 columns]"
      ]
     },
     "execution_count": 6,
     "metadata": {},
     "output_type": "execute_result"
    }
   ],
   "source": [
    "df[df['sq_ft'] > 5263]"
   ]
  },
  {
   "cell_type": "code",
   "execution_count": 7,
   "id": "2af2415f",
   "metadata": {},
   "outputs": [
    {
     "data": {
      "text/html": [
       "<div>\n",
       "<style scoped>\n",
       "    .dataframe tbody tr th:only-of-type {\n",
       "        vertical-align: middle;\n",
       "    }\n",
       "\n",
       "    .dataframe tbody tr th {\n",
       "        vertical-align: top;\n",
       "    }\n",
       "\n",
       "    .dataframe thead th {\n",
       "        text-align: right;\n",
       "    }\n",
       "</style>\n",
       "<table border=\"1\" class=\"dataframe\">\n",
       "  <thead>\n",
       "    <tr style=\"text-align: right;\">\n",
       "      <th></th>\n",
       "      <th>bedrooms</th>\n",
       "      <th>bathrooms</th>\n",
       "      <th>sq_ft</th>\n",
       "      <th>tax_value</th>\n",
       "      <th>year</th>\n",
       "      <th>tax_amount</th>\n",
       "      <th>fips</th>\n",
       "      <th>tax_rate</th>\n",
       "    </tr>\n",
       "  </thead>\n",
       "  <tbody>\n",
       "    <tr>\n",
       "      <th>29909</th>\n",
       "      <td>10.0</td>\n",
       "      <td>19.5</td>\n",
       "      <td>26345.0</td>\n",
       "      <td>11689668.0</td>\n",
       "      <td>1981.0</td>\n",
       "      <td>369.08</td>\n",
       "      <td>6059.0</td>\n",
       "      <td>0.003157</td>\n",
       "    </tr>\n",
       "    <tr>\n",
       "      <th>24560</th>\n",
       "      <td>8.0</td>\n",
       "      <td>1.5</td>\n",
       "      <td>20433.0</td>\n",
       "      <td>5310449.0</td>\n",
       "      <td>1997.0</td>\n",
       "      <td>56058.04</td>\n",
       "      <td>6111.0</td>\n",
       "      <td>1.055618</td>\n",
       "    </tr>\n",
       "    <tr>\n",
       "      <th>44782</th>\n",
       "      <td>9.0</td>\n",
       "      <td>10.0</td>\n",
       "      <td>19346.0</td>\n",
       "      <td>4151368.0</td>\n",
       "      <td>1995.0</td>\n",
       "      <td>45888.56</td>\n",
       "      <td>6059.0</td>\n",
       "      <td>1.105384</td>\n",
       "    </tr>\n",
       "    <tr>\n",
       "      <th>12449</th>\n",
       "      <td>5.0</td>\n",
       "      <td>13.0</td>\n",
       "      <td>19335.0</td>\n",
       "      <td>10904781.0</td>\n",
       "      <td>1997.0</td>\n",
       "      <td>131646.20</td>\n",
       "      <td>6037.0</td>\n",
       "      <td>1.207234</td>\n",
       "    </tr>\n",
       "    <tr>\n",
       "      <th>42869</th>\n",
       "      <td>5.0</td>\n",
       "      <td>8.0</td>\n",
       "      <td>16853.0</td>\n",
       "      <td>9841049.0</td>\n",
       "      <td>2012.0</td>\n",
       "      <td>118222.35</td>\n",
       "      <td>6037.0</td>\n",
       "      <td>1.201319</td>\n",
       "    </tr>\n",
       "  </tbody>\n",
       "</table>\n",
       "</div>"
      ],
      "text/plain": [
       "       bedrooms  bathrooms    sq_ft   tax_value    year  tax_amount    fips  \\\n",
       "29909      10.0       19.5  26345.0  11689668.0  1981.0      369.08  6059.0   \n",
       "24560       8.0        1.5  20433.0   5310449.0  1997.0    56058.04  6111.0   \n",
       "44782       9.0       10.0  19346.0   4151368.0  1995.0    45888.56  6059.0   \n",
       "12449       5.0       13.0  19335.0  10904781.0  1997.0   131646.20  6037.0   \n",
       "42869       5.0        8.0  16853.0   9841049.0  2012.0   118222.35  6037.0   \n",
       "\n",
       "       tax_rate  \n",
       "29909  0.003157  \n",
       "24560  1.055618  \n",
       "44782  1.105384  \n",
       "12449  1.207234  \n",
       "42869  1.201319  "
      ]
     },
     "execution_count": 7,
     "metadata": {},
     "output_type": "execute_result"
    }
   ],
   "source": [
    "# Going to drop two highest sq_ft houses\n",
    "df.sort_values('sq_ft', ascending=False).head()"
   ]
  },
  {
   "cell_type": "code",
   "execution_count": 8,
   "id": "fc702875",
   "metadata": {},
   "outputs": [],
   "source": [
    "bins = df['sq_ft'].quantile([0 ,.1,.2,.3,.4,.5,.6,.7,.8,.9, 1])"
   ]
  },
  {
   "cell_type": "code",
   "execution_count": 9,
   "id": "0c03a92b",
   "metadata": {},
   "outputs": [
    {
     "data": {
      "text/plain": [
       "(array([5548., 5539., 5614., 5576., 5543., 5592., 5588., 5571., 5575.,\n",
       "        5579.]),\n",
       " array([2.0000e+01, 1.0280e+03, 1.1960e+03, 1.3320e+03, 1.4760e+03,\n",
       "        1.6300e+03, 1.8180e+03, 2.0620e+03, 2.3980e+03, 2.9520e+03,\n",
       "        2.6345e+04]),\n",
       " [<matplotlib.patches.Polygon at 0x14be312b0>])"
      ]
     },
     "execution_count": 9,
     "metadata": {},
     "output_type": "execute_result"
    },
    {
     "data": {
      "image/png": "[encoded data removed]",
      "text/plain": [
       "<Figure size 640x480 with 1 Axes>"
      ]
     },
     "metadata": {},
     "output_type": "display_data"
    }
   ],
   "source": [
    "plt.hist(df.sq_ft, bins=bins, ec='black', histtype='stepfilled')"
   ]
  },
  {
   "cell_type": "code",
   "execution_count": 10,
   "id": "3eeb8f18",
   "metadata": {},
   "outputs": [
    {
     "data": {
      "text/plain": [
       "562"
      ]
     },
     "execution_count": 10,
     "metadata": {},
     "output_type": "execute_result"
    }
   ],
   "source": [
    "# index list of homes over 5263 sq_ft. Top 1% being dropped. 562 dropped\n",
    "index_sqft = df[df['sq_ft'] > 5263].index.tolist()\n",
    "len(index_sqft)"
   ]
  },
  {
   "cell_type": "code",
   "execution_count": 11,
   "id": "84272b0f",
   "metadata": {},
   "outputs": [],
   "source": [
    "# Dropping homes over 5263 sqft. \n",
    "df.drop(index=index_sqft, inplace=True)"
   ]
  },
  {
   "cell_type": "code",
   "execution_count": 12,
   "id": "44e1f14e",
   "metadata": {},
   "outputs": [
    {
     "data": {
      "text/plain": [
       "123"
      ]
     },
     "execution_count": 12,
     "metadata": {},
     "output_type": "execute_result"
    }
   ],
   "source": [
    "# Index list of all homes with no bathrooms. Should be 123 observations.\n",
    "index_bath = df[df['bathrooms'] == 0].index.tolist()\n",
    "len(index_bath)"
   ]
  },
  {
   "cell_type": "code",
   "execution_count": 13,
   "id": "e132ea3d",
   "metadata": {},
   "outputs": [],
   "source": [
    "# Dropping all instances where bathrooms == 0.\n",
    "df.drop(index=index_bath, inplace=True)"
   ]
  },
  {
   "cell_type": "code",
   "execution_count": 14,
   "id": "05b2077e",
   "metadata": {},
   "outputs": [
    {
     "data": {
      "text/plain": [
       "20"
      ]
     },
     "execution_count": 14,
     "metadata": {},
     "output_type": "execute_result"
    }
   ],
   "source": [
    "# Index list of all homes with no bedrooms. 20 observations\n",
    "index_beds = df[df['bedrooms'] < 1].index.tolist()\n",
    "len(index_beds)"
   ]
  },
  {
   "cell_type": "code",
   "execution_count": 15,
   "id": "7baa03d2",
   "metadata": {},
   "outputs": [],
   "source": [
    "# Drop houses with no bedrooms\n",
    "df.drop(index=index_beds, inplace=True)"
   ]
  },
  {
   "cell_type": "code",
   "execution_count": 16,
   "id": "95ff7e17",
   "metadata": {},
   "outputs": [],
   "source": [
    "# Dropping these columns. Too correlated to tax_value\n",
    "df.drop(['tax_amount', 'tax_rate'], axis=1, inplace=True)"
   ]
  },
  {
   "cell_type": "code",
   "execution_count": 17,
   "id": "6f235ca5",
   "metadata": {},
   "outputs": [
    {
     "data": {
      "text/html": [
       "<div>\n",
       "<style scoped>\n",
       "    .dataframe tbody tr th:only-of-type {\n",
       "        vertical-align: middle;\n",
       "    }\n",
       "\n",
       "    .dataframe tbody tr th {\n",
       "        vertical-align: top;\n",
       "    }\n",
       "\n",
       "    .dataframe thead th {\n",
       "        text-align: right;\n",
       "    }\n",
       "</style>\n",
       "<table border=\"1\" class=\"dataframe\">\n",
       "  <thead>\n",
       "    <tr style=\"text-align: right;\">\n",
       "      <th></th>\n",
       "      <th>bedrooms</th>\n",
       "      <th>bathrooms</th>\n",
       "      <th>sq_ft</th>\n",
       "      <th>tax_value</th>\n",
       "      <th>year</th>\n",
       "      <th>fips</th>\n",
       "    </tr>\n",
       "  </thead>\n",
       "  <tbody>\n",
       "    <tr>\n",
       "      <th>0</th>\n",
       "      <td>2.0</td>\n",
       "      <td>1.0</td>\n",
       "      <td>1412.0</td>\n",
       "      <td>222671.0</td>\n",
       "      <td>1947.0</td>\n",
       "      <td>6037.0</td>\n",
       "    </tr>\n",
       "    <tr>\n",
       "      <th>1</th>\n",
       "      <td>3.0</td>\n",
       "      <td>2.0</td>\n",
       "      <td>1296.0</td>\n",
       "      <td>64968.0</td>\n",
       "      <td>1955.0</td>\n",
       "      <td>6037.0</td>\n",
       "    </tr>\n",
       "    <tr>\n",
       "      <th>2</th>\n",
       "      <td>3.0</td>\n",
       "      <td>1.0</td>\n",
       "      <td>1044.0</td>\n",
       "      <td>126800.0</td>\n",
       "      <td>1947.0</td>\n",
       "      <td>6037.0</td>\n",
       "    </tr>\n",
       "  </tbody>\n",
       "</table>\n",
       "</div>"
      ],
      "text/plain": [
       "   bedrooms  bathrooms   sq_ft  tax_value    year    fips\n",
       "0       2.0        1.0  1412.0   222671.0  1947.0  6037.0\n",
       "1       3.0        2.0  1296.0    64968.0  1955.0  6037.0\n",
       "2       3.0        1.0  1044.0   126800.0  1947.0  6037.0"
      ]
     },
     "execution_count": 17,
     "metadata": {},
     "output_type": "execute_result"
    }
   ],
   "source": [
    "df.head(3)"
   ]
  },
  {
   "cell_type": "code",
   "execution_count": 18,
   "id": "7715c8d9",
   "metadata": {},
   "outputs": [],
   "source": [
    "# creating dummies for fips\n",
    "df = pd.get_dummies(df, columns=['fips'])"
   ]
  },
  {
   "cell_type": "code",
   "execution_count": 19,
   "id": "6c919f9d",
   "metadata": {},
   "outputs": [
    {
     "data": {
      "text/html": [
       "<div>\n",
       "<style scoped>\n",
       "    .dataframe tbody tr th:only-of-type {\n",
       "        vertical-align: middle;\n",
       "    }\n",
       "\n",
       "    .dataframe tbody tr th {\n",
       "        vertical-align: top;\n",
       "    }\n",
       "\n",
       "    .dataframe thead th {\n",
       "        text-align: right;\n",
       "    }\n",
       "</style>\n",
       "<table border=\"1\" class=\"dataframe\">\n",
       "  <thead>\n",
       "    <tr style=\"text-align: right;\">\n",
       "      <th></th>\n",
       "      <th>bedrooms</th>\n",
       "      <th>bathrooms</th>\n",
       "      <th>sq_ft</th>\n",
       "      <th>tax_value</th>\n",
       "      <th>year</th>\n",
       "      <th>fips_6037.0</th>\n",
       "      <th>fips_6059.0</th>\n",
       "      <th>fips_6111.0</th>\n",
       "    </tr>\n",
       "  </thead>\n",
       "  <tbody>\n",
       "    <tr>\n",
       "      <th>0</th>\n",
       "      <td>2.0</td>\n",
       "      <td>1.0</td>\n",
       "      <td>1412.0</td>\n",
       "      <td>222671.0</td>\n",
       "      <td>1947.0</td>\n",
       "      <td>1</td>\n",
       "      <td>0</td>\n",
       "      <td>0</td>\n",
       "    </tr>\n",
       "    <tr>\n",
       "      <th>1</th>\n",
       "      <td>3.0</td>\n",
       "      <td>2.0</td>\n",
       "      <td>1296.0</td>\n",
       "      <td>64968.0</td>\n",
       "      <td>1955.0</td>\n",
       "      <td>1</td>\n",
       "      <td>0</td>\n",
       "      <td>0</td>\n",
       "    </tr>\n",
       "    <tr>\n",
       "      <th>2</th>\n",
       "      <td>3.0</td>\n",
       "      <td>1.0</td>\n",
       "      <td>1044.0</td>\n",
       "      <td>126800.0</td>\n",
       "      <td>1947.0</td>\n",
       "      <td>1</td>\n",
       "      <td>0</td>\n",
       "      <td>0</td>\n",
       "    </tr>\n",
       "    <tr>\n",
       "      <th>3</th>\n",
       "      <td>3.0</td>\n",
       "      <td>2.0</td>\n",
       "      <td>1336.0</td>\n",
       "      <td>213833.0</td>\n",
       "      <td>1955.0</td>\n",
       "      <td>1</td>\n",
       "      <td>0</td>\n",
       "      <td>0</td>\n",
       "    </tr>\n",
       "    <tr>\n",
       "      <th>4</th>\n",
       "      <td>3.0</td>\n",
       "      <td>2.0</td>\n",
       "      <td>1510.0</td>\n",
       "      <td>338022.0</td>\n",
       "      <td>1979.0</td>\n",
       "      <td>1</td>\n",
       "      <td>0</td>\n",
       "      <td>0</td>\n",
       "    </tr>\n",
       "  </tbody>\n",
       "</table>\n",
       "</div>"
      ],
      "text/plain": [
       "   bedrooms  bathrooms   sq_ft  tax_value    year  fips_6037.0  fips_6059.0  \\\n",
       "0       2.0        1.0  1412.0   222671.0  1947.0            1            0   \n",
       "1       3.0        2.0  1296.0    64968.0  1955.0            1            0   \n",
       "2       3.0        1.0  1044.0   126800.0  1947.0            1            0   \n",
       "3       3.0        2.0  1336.0   213833.0  1955.0            1            0   \n",
       "4       3.0        2.0  1510.0   338022.0  1979.0            1            0   \n",
       "\n",
       "   fips_6111.0  \n",
       "0            0  \n",
       "1            0  \n",
       "2            0  \n",
       "3            0  \n",
       "4            0  "
      ]
     },
     "execution_count": 19,
     "metadata": {},
     "output_type": "execute_result"
    }
   ],
   "source": [
    "df.head()"
   ]
  },
  {
   "cell_type": "code",
   "execution_count": 20,
   "id": "0931eeee",
   "metadata": {},
   "outputs": [
    {
     "data": {
      "text/plain": [
       "((30811, 8), (13205, 8), (11004, 8))"
      ]
     },
     "execution_count": 20,
     "metadata": {},
     "output_type": "execute_result"
    }
   ],
   "source": [
    "# Train, Validate, Test\n",
    "train, val, test = p.split_data_continious(df)\n",
    "train.shape, val.shape, test.shape"
   ]
  },
  {
   "cell_type": "markdown",
   "id": "1e4a884a",
   "metadata": {},
   "source": [
    "## Work through all of the steps outlined in the lesson, from setting the baseline to selected a model and evaluating the final model on your test data."
   ]
  },
  {
   "cell_type": "markdown",
   "id": "df5d32be",
   "metadata": {},
   "source": [
    "### Baseline"
   ]
  },
  {
   "cell_type": "code",
   "execution_count": 21,
   "id": "30101580",
   "metadata": {},
   "outputs": [
    {
     "data": {
      "text/html": [
       "<div>\n",
       "<style scoped>\n",
       "    .dataframe tbody tr th:only-of-type {\n",
       "        vertical-align: middle;\n",
       "    }\n",
       "\n",
       "    .dataframe tbody tr th {\n",
       "        vertical-align: top;\n",
       "    }\n",
       "\n",
       "    .dataframe thead th {\n",
       "        text-align: right;\n",
       "    }\n",
       "</style>\n",
       "<table border=\"1\" class=\"dataframe\">\n",
       "  <thead>\n",
       "    <tr style=\"text-align: right;\">\n",
       "      <th></th>\n",
       "      <th>bedrooms</th>\n",
       "      <th>bathrooms</th>\n",
       "      <th>sq_ft</th>\n",
       "      <th>tax_value</th>\n",
       "      <th>year</th>\n",
       "      <th>fips_6037.0</th>\n",
       "      <th>fips_6059.0</th>\n",
       "      <th>fips_6111.0</th>\n",
       "    </tr>\n",
       "  </thead>\n",
       "  <tbody>\n",
       "    <tr>\n",
       "      <th>25743</th>\n",
       "      <td>3.0</td>\n",
       "      <td>2.0</td>\n",
       "      <td>1396.0</td>\n",
       "      <td>365489.0</td>\n",
       "      <td>1931.0</td>\n",
       "      <td>1</td>\n",
       "      <td>0</td>\n",
       "      <td>0</td>\n",
       "    </tr>\n",
       "    <tr>\n",
       "      <th>15681</th>\n",
       "      <td>2.0</td>\n",
       "      <td>2.0</td>\n",
       "      <td>955.0</td>\n",
       "      <td>242094.0</td>\n",
       "      <td>1938.0</td>\n",
       "      <td>1</td>\n",
       "      <td>0</td>\n",
       "      <td>0</td>\n",
       "    </tr>\n",
       "    <tr>\n",
       "      <th>25495</th>\n",
       "      <td>3.0</td>\n",
       "      <td>2.0</td>\n",
       "      <td>1539.0</td>\n",
       "      <td>255632.0</td>\n",
       "      <td>1941.0</td>\n",
       "      <td>1</td>\n",
       "      <td>0</td>\n",
       "      <td>0</td>\n",
       "    </tr>\n",
       "  </tbody>\n",
       "</table>\n",
       "</div>"
      ],
      "text/plain": [
       "       bedrooms  bathrooms   sq_ft  tax_value    year  fips_6037.0  \\\n",
       "25743       3.0        2.0  1396.0   365489.0  1931.0            1   \n",
       "15681       2.0        2.0   955.0   242094.0  1938.0            1   \n",
       "25495       3.0        2.0  1539.0   255632.0  1941.0            1   \n",
       "\n",
       "       fips_6059.0  fips_6111.0  \n",
       "25743            0            0  \n",
       "15681            0            0  \n",
       "25495            0            0  "
      ]
     },
     "execution_count": 21,
     "metadata": {},
     "output_type": "execute_result"
    }
   ],
   "source": [
    "train.head(3)"
   ]
  },
  {
   "cell_type": "code",
   "execution_count": 22,
   "id": "f8fb56f5",
   "metadata": {},
   "outputs": [],
   "source": [
    "# deep copy of train dataset to maintain integrity of original df\n",
    "train_cp = train.copy()"
   ]
  },
  {
   "cell_type": "code",
   "execution_count": 23,
   "id": "86b30563",
   "metadata": {},
   "outputs": [],
   "source": [
    "# Scaler Object\n",
    "minmax = MinMaxScaler()"
   ]
  },
  {
   "cell_type": "code",
   "execution_count": 24,
   "id": "a1474f7f",
   "metadata": {},
   "outputs": [],
   "source": [
    "# Scaling Columns, except fips\n",
    "train_cp[['bedrooms','bathrooms','sq_ft','year']] =\\\n",
    "minmax.fit_transform(train_cp[['bedrooms','bathrooms','sq_ft','year']])"
   ]
  },
  {
   "cell_type": "code",
   "execution_count": 25,
   "id": "e072ce63",
   "metadata": {},
   "outputs": [
    {
     "data": {
      "text/html": [
       "<div>\n",
       "<style scoped>\n",
       "    .dataframe tbody tr th:only-of-type {\n",
       "        vertical-align: middle;\n",
       "    }\n",
       "\n",
       "    .dataframe tbody tr th {\n",
       "        vertical-align: top;\n",
       "    }\n",
       "\n",
       "    .dataframe thead th {\n",
       "        text-align: right;\n",
       "    }\n",
       "</style>\n",
       "<table border=\"1\" class=\"dataframe\">\n",
       "  <thead>\n",
       "    <tr style=\"text-align: right;\">\n",
       "      <th></th>\n",
       "      <th>bedrooms</th>\n",
       "      <th>bathrooms</th>\n",
       "      <th>sq_ft</th>\n",
       "      <th>tax_value</th>\n",
       "      <th>year</th>\n",
       "      <th>fips_6037.0</th>\n",
       "      <th>fips_6059.0</th>\n",
       "      <th>fips_6111.0</th>\n",
       "    </tr>\n",
       "  </thead>\n",
       "  <tbody>\n",
       "    <tr>\n",
       "      <th>25743</th>\n",
       "      <td>0.2</td>\n",
       "      <td>0.166667</td>\n",
       "      <td>0.217770</td>\n",
       "      <td>365489.0</td>\n",
       "      <td>0.448052</td>\n",
       "      <td>1</td>\n",
       "      <td>0</td>\n",
       "      <td>0</td>\n",
       "    </tr>\n",
       "    <tr>\n",
       "      <th>15681</th>\n",
       "      <td>0.1</td>\n",
       "      <td>0.166667</td>\n",
       "      <td>0.128516</td>\n",
       "      <td>242094.0</td>\n",
       "      <td>0.493506</td>\n",
       "      <td>1</td>\n",
       "      <td>0</td>\n",
       "      <td>0</td>\n",
       "    </tr>\n",
       "    <tr>\n",
       "      <th>25495</th>\n",
       "      <td>0.2</td>\n",
       "      <td>0.166667</td>\n",
       "      <td>0.246711</td>\n",
       "      <td>255632.0</td>\n",
       "      <td>0.512987</td>\n",
       "      <td>1</td>\n",
       "      <td>0</td>\n",
       "      <td>0</td>\n",
       "    </tr>\n",
       "    <tr>\n",
       "      <th>38339</th>\n",
       "      <td>0.2</td>\n",
       "      <td>0.166667</td>\n",
       "      <td>0.272819</td>\n",
       "      <td>244943.0</td>\n",
       "      <td>0.597403</td>\n",
       "      <td>1</td>\n",
       "      <td>0</td>\n",
       "      <td>0</td>\n",
       "    </tr>\n",
       "    <tr>\n",
       "      <th>27994</th>\n",
       "      <td>0.3</td>\n",
       "      <td>0.333333</td>\n",
       "      <td>0.593605</td>\n",
       "      <td>521873.0</td>\n",
       "      <td>0.805195</td>\n",
       "      <td>1</td>\n",
       "      <td>0</td>\n",
       "      <td>0</td>\n",
       "    </tr>\n",
       "  </tbody>\n",
       "</table>\n",
       "</div>"
      ],
      "text/plain": [
       "       bedrooms  bathrooms     sq_ft  tax_value      year  fips_6037.0  \\\n",
       "25743       0.2   0.166667  0.217770   365489.0  0.448052            1   \n",
       "15681       0.1   0.166667  0.128516   242094.0  0.493506            1   \n",
       "25495       0.2   0.166667  0.246711   255632.0  0.512987            1   \n",
       "38339       0.2   0.166667  0.272819   244943.0  0.597403            1   \n",
       "27994       0.3   0.333333  0.593605   521873.0  0.805195            1   \n",
       "\n",
       "       fips_6059.0  fips_6111.0  \n",
       "25743            0            0  \n",
       "15681            0            0  \n",
       "25495            0            0  \n",
       "38339            0            0  \n",
       "27994            0            0  "
      ]
     },
     "execution_count": 25,
     "metadata": {},
     "output_type": "execute_result"
    }
   ],
   "source": [
    "train_cp.head()"
   ]
  },
  {
   "cell_type": "code",
   "execution_count": 26,
   "id": "f48e1f12",
   "metadata": {},
   "outputs": [],
   "source": [
    "# The trains\n",
    "X_train = train_cp.drop(['tax_value'], axis=1)\n",
    "y_train = train_cp['tax_value']\n",
    "\n",
    "X_val = val.drop(['tax_value'], axis=1)\n",
    "y_val = val['tax_value']\n",
    "\n",
    "X_test = test.drop(['tax_value'], axis=1)\n",
    "y_test = test['tax_value']"
   ]
  },
  {
   "cell_type": "code",
   "execution_count": 27,
   "id": "970b5b3f",
   "metadata": {},
   "outputs": [
    {
     "data": {
      "text/html": [
       "<div>\n",
       "<style scoped>\n",
       "    .dataframe tbody tr th:only-of-type {\n",
       "        vertical-align: middle;\n",
       "    }\n",
       "\n",
       "    .dataframe tbody tr th {\n",
       "        vertical-align: top;\n",
       "    }\n",
       "\n",
       "    .dataframe thead th {\n",
       "        text-align: right;\n",
       "    }\n",
       "</style>\n",
       "<table border=\"1\" class=\"dataframe\">\n",
       "  <thead>\n",
       "    <tr style=\"text-align: right;\">\n",
       "      <th></th>\n",
       "      <th>bedrooms</th>\n",
       "      <th>bathrooms</th>\n",
       "      <th>sq_ft</th>\n",
       "      <th>tax_value</th>\n",
       "      <th>year</th>\n",
       "      <th>fips_6037.0</th>\n",
       "      <th>fips_6059.0</th>\n",
       "      <th>fips_6111.0</th>\n",
       "      <th>baseline</th>\n",
       "    </tr>\n",
       "  </thead>\n",
       "  <tbody>\n",
       "    <tr>\n",
       "      <th>25743</th>\n",
       "      <td>0.2</td>\n",
       "      <td>0.166667</td>\n",
       "      <td>0.217770</td>\n",
       "      <td>365489.0</td>\n",
       "      <td>0.448052</td>\n",
       "      <td>1</td>\n",
       "      <td>0</td>\n",
       "      <td>0</td>\n",
       "      <td>426682.254747</td>\n",
       "    </tr>\n",
       "    <tr>\n",
       "      <th>15681</th>\n",
       "      <td>0.1</td>\n",
       "      <td>0.166667</td>\n",
       "      <td>0.128516</td>\n",
       "      <td>242094.0</td>\n",
       "      <td>0.493506</td>\n",
       "      <td>1</td>\n",
       "      <td>0</td>\n",
       "      <td>0</td>\n",
       "      <td>426682.254747</td>\n",
       "    </tr>\n",
       "    <tr>\n",
       "      <th>25495</th>\n",
       "      <td>0.2</td>\n",
       "      <td>0.166667</td>\n",
       "      <td>0.246711</td>\n",
       "      <td>255632.0</td>\n",
       "      <td>0.512987</td>\n",
       "      <td>1</td>\n",
       "      <td>0</td>\n",
       "      <td>0</td>\n",
       "      <td>426682.254747</td>\n",
       "    </tr>\n",
       "  </tbody>\n",
       "</table>\n",
       "</div>"
      ],
      "text/plain": [
       "       bedrooms  bathrooms     sq_ft  tax_value      year  fips_6037.0  \\\n",
       "25743       0.2   0.166667  0.217770   365489.0  0.448052            1   \n",
       "15681       0.1   0.166667  0.128516   242094.0  0.493506            1   \n",
       "25495       0.2   0.166667  0.246711   255632.0  0.512987            1   \n",
       "\n",
       "       fips_6059.0  fips_6111.0       baseline  \n",
       "25743            0            0  426682.254747  \n",
       "15681            0            0  426682.254747  \n",
       "25495            0            0  426682.254747  "
      ]
     },
     "execution_count": 27,
     "metadata": {},
     "output_type": "execute_result"
    }
   ],
   "source": [
    "# Baseline = Mean Tax Value\n",
    "train_cp['baseline'] = train_cp['tax_value'].mean()\n",
    "train_cp.head(3)"
   ]
  },
  {
   "cell_type": "markdown",
   "id": "b818c258",
   "metadata": {},
   "source": [
    "### OLS Linear Regression"
   ]
  },
  {
   "cell_type": "code",
   "execution_count": 28,
   "id": "2bd2ede6",
   "metadata": {},
   "outputs": [],
   "source": [
    "# Model Object for predictions\n",
    "lm = LinearRegression()"
   ]
  },
  {
   "cell_type": "code",
   "execution_count": 29,
   "id": "baac19e9",
   "metadata": {},
   "outputs": [
    {
     "data": {
      "text/html": [
       "<style>#sk-container-id-1 {color: black;background-color: white;}#sk-container-id-1 pre{padding: 0;}#sk-container-id-1 div.sk-toggleable {background-color: white;}#sk-container-id-1 label.sk-toggleable__label {cursor: pointer;display: block;width: 100%;margin-bottom: 0;padding: 0.3em;box-sizing: border-box;text-align: center;}#sk-container-id-1 label.sk-toggleable__label-arrow:before {content: \"▸\";float: left;margin-right: 0.25em;color: #696969;}#sk-container-id-1 label.sk-toggleable__label-arrow:hover:before {color: black;}#sk-container-id-1 div.sk-estimator:hover label.sk-toggleable__label-arrow:before {color: black;}#sk-container-id-1 div.sk-toggleable__content {max-height: 0;max-width: 0;overflow: hidden;text-align: left;background-color: #f0f8ff;}#sk-container-id-1 div.sk-toggleable__content pre {margin: 0.2em;color: black;border-radius: 0.25em;background-color: #f0f8ff;}#sk-container-id-1 input.sk-toggleable__control:checked~div.sk-toggleable__content {max-height: 200px;max-width: 100%;overflow: auto;}#sk-container-id-1 input.sk-toggleable__control:checked~label.sk-toggleable__label-arrow:before {content: \"▾\";}#sk-container-id-1 div.sk-estimator input.sk-toggleable__control:checked~label.sk-toggleable__label {background-color: #d4ebff;}#sk-container-id-1 div.sk-label input.sk-toggleable__control:checked~label.sk-toggleable__label {background-color: #d4ebff;}#sk-container-id-1 input.sk-hidden--visually {border: 0;clip: rect(1px 1px 1px 1px);clip: rect(1px, 1px, 1px, 1px);height: 1px;margin: -1px;overflow: hidden;padding: 0;position: absolute;width: 1px;}#sk-container-id-1 div.sk-estimator {font-family: monospace;background-color: #f0f8ff;border: 1px dotted black;border-radius: 0.25em;box-sizing: border-box;margin-bottom: 0.5em;}#sk-container-id-1 div.sk-estimator:hover {background-color: #d4ebff;}#sk-container-id-1 div.sk-parallel-item::after {content: \"\";width: 100%;border-bottom: 1px solid gray;flex-grow: 1;}#sk-container-id-1 div.sk-label:hover label.sk-toggleable__label {background-color: #d4ebff;}#sk-container-id-1 div.sk-serial::before {content: \"\";position: absolute;border-left: 1px solid gray;box-sizing: border-box;top: 0;bottom: 0;left: 50%;z-index: 0;}#sk-container-id-1 div.sk-serial {display: flex;flex-direction: column;align-items: center;background-color: white;padding-right: 0.2em;padding-left: 0.2em;position: relative;}#sk-container-id-1 div.sk-item {position: relative;z-index: 1;}#sk-container-id-1 div.sk-parallel {display: flex;align-items: stretch;justify-content: center;background-color: white;position: relative;}#sk-container-id-1 div.sk-item::before, #sk-container-id-1 div.sk-parallel-item::before {content: \"\";position: absolute;border-left: 1px solid gray;box-sizing: border-box;top: 0;bottom: 0;left: 50%;z-index: -1;}#sk-container-id-1 div.sk-parallel-item {display: flex;flex-direction: column;z-index: 1;position: relative;background-color: white;}#sk-container-id-1 div.sk-parallel-item:first-child::after {align-self: flex-end;width: 50%;}#sk-container-id-1 div.sk-parallel-item:last-child::after {align-self: flex-start;width: 50%;}#sk-container-id-1 div.sk-parallel-item:only-child::after {width: 0;}#sk-container-id-1 div.sk-dashed-wrapped {border: 1px dashed gray;margin: 0 0.4em 0.5em 0.4em;box-sizing: border-box;padding-bottom: 0.4em;background-color: white;}#sk-container-id-1 div.sk-label label {font-family: monospace;font-weight: bold;display: inline-block;line-height: 1.2em;}#sk-container-id-1 div.sk-label-container {text-align: center;}#sk-container-id-1 div.sk-container {/* jupyter's `normalize.less` sets `[hidden] { display: none; }` but bootstrap.min.css set `[hidden] { display: none !important; }` so we also need the `!important` here to be able to override the default hidden behavior on the sphinx rendered scikit-learn.org. See: https://github.com/scikit-learn/scikit-learn/issues/21755 */display: inline-block !important;position: relative;}#sk-container-id-1 div.sk-text-repr-fallback {display: none;}</style><div id=\"sk-container-id-1\" class=\"sk-top-container\"><div class=\"sk-text-repr-fallback\"><pre>LinearRegression()</pre><b>In a Jupyter environment, please rerun this cell to show the HTML representation or trust the notebook. <br />On GitHub, the HTML representation is unable to render, please try loading this page with nbviewer.org.</b></div><div class=\"sk-container\" hidden><div class=\"sk-item\"><div class=\"sk-estimator sk-toggleable\"><input class=\"sk-toggleable__control sk-hidden--visually\" id=\"sk-estimator-id-1\" type=\"checkbox\" checked><label for=\"sk-estimator-id-1\" class=\"sk-toggleable__label sk-toggleable__label-arrow\">LinearRegression</label><div class=\"sk-toggleable__content\"><pre>LinearRegression()</pre></div></div></div></div></div>"
      ],
      "text/plain": [
       "LinearRegression()"
      ]
     },
     "execution_count": 29,
     "metadata": {},
     "output_type": "execute_result"
    }
   ],
   "source": [
    "# Fit model\n",
    "lm.fit(X_train, y_train)"
   ]
  },
  {
   "cell_type": "code",
   "execution_count": 30,
   "id": "852df09d",
   "metadata": {},
   "outputs": [
    {
     "data": {
      "text/html": [
       "<div>\n",
       "<style scoped>\n",
       "    .dataframe tbody tr th:only-of-type {\n",
       "        vertical-align: middle;\n",
       "    }\n",
       "\n",
       "    .dataframe tbody tr th {\n",
       "        vertical-align: top;\n",
       "    }\n",
       "\n",
       "    .dataframe thead th {\n",
       "        text-align: right;\n",
       "    }\n",
       "</style>\n",
       "<table border=\"1\" class=\"dataframe\">\n",
       "  <thead>\n",
       "    <tr style=\"text-align: right;\">\n",
       "      <th></th>\n",
       "      <th>bedrooms</th>\n",
       "      <th>bathrooms</th>\n",
       "      <th>sq_ft</th>\n",
       "      <th>tax_value</th>\n",
       "      <th>year</th>\n",
       "      <th>fips_6037.0</th>\n",
       "      <th>fips_6059.0</th>\n",
       "      <th>fips_6111.0</th>\n",
       "      <th>baseline</th>\n",
       "      <th>lm_preds</th>\n",
       "    </tr>\n",
       "  </thead>\n",
       "  <tbody>\n",
       "    <tr>\n",
       "      <th>25743</th>\n",
       "      <td>0.2</td>\n",
       "      <td>0.166667</td>\n",
       "      <td>0.217770</td>\n",
       "      <td>365489.0</td>\n",
       "      <td>0.448052</td>\n",
       "      <td>1</td>\n",
       "      <td>0</td>\n",
       "      <td>0</td>\n",
       "      <td>426682.254747</td>\n",
       "      <td>347520.0</td>\n",
       "    </tr>\n",
       "    <tr>\n",
       "      <th>15681</th>\n",
       "      <td>0.1</td>\n",
       "      <td>0.166667</td>\n",
       "      <td>0.128516</td>\n",
       "      <td>242094.0</td>\n",
       "      <td>0.493506</td>\n",
       "      <td>1</td>\n",
       "      <td>0</td>\n",
       "      <td>0</td>\n",
       "      <td>426682.254747</td>\n",
       "      <td>288128.0</td>\n",
       "    </tr>\n",
       "    <tr>\n",
       "      <th>25495</th>\n",
       "      <td>0.2</td>\n",
       "      <td>0.166667</td>\n",
       "      <td>0.246711</td>\n",
       "      <td>255632.0</td>\n",
       "      <td>0.512987</td>\n",
       "      <td>1</td>\n",
       "      <td>0</td>\n",
       "      <td>0</td>\n",
       "      <td>426682.254747</td>\n",
       "      <td>374784.0</td>\n",
       "    </tr>\n",
       "  </tbody>\n",
       "</table>\n",
       "</div>"
      ],
      "text/plain": [
       "       bedrooms  bathrooms     sq_ft  tax_value      year  fips_6037.0  \\\n",
       "25743       0.2   0.166667  0.217770   365489.0  0.448052            1   \n",
       "15681       0.1   0.166667  0.128516   242094.0  0.493506            1   \n",
       "25495       0.2   0.166667  0.246711   255632.0  0.512987            1   \n",
       "\n",
       "       fips_6059.0  fips_6111.0       baseline  lm_preds  \n",
       "25743            0            0  426682.254747  347520.0  \n",
       "15681            0            0  426682.254747  288128.0  \n",
       "25495            0            0  426682.254747  374784.0  "
      ]
     },
     "execution_count": 30,
     "metadata": {},
     "output_type": "execute_result"
    }
   ],
   "source": [
    "# Predictions\n",
    "train_cp['lm_preds'] = lm.predict(X_train)\n",
    "train_cp.head(3)"
   ]
  },
  {
   "cell_type": "code",
   "execution_count": 31,
   "id": "578480e9",
   "metadata": {},
   "outputs": [],
   "source": [
    "import evaluate as e"
   ]
  },
  {
   "cell_type": "code",
   "execution_count": 32,
   "id": "2e1e6203",
   "metadata": {},
   "outputs": [
    {
     "name": "stdout",
     "output_type": "stream",
     "text": [
      "\n",
      "        Baseline Mean Errors\n",
      "        --------------------\n",
      "        SSE: 5932177623794784.0\n",
      "        MSE: 192534407315.3998\n",
      "        RMSE: 438787.42839260993\n",
      "    \n"
     ]
    },
    {
     "data": {
      "text/plain": [
       "(5932177623794784.0, 192534407315.3998, 438787.42839260993)"
      ]
     },
     "execution_count": 32,
     "metadata": {},
     "output_type": "execute_result"
    }
   ],
   "source": [
    "# Basline performance\n",
    "bs_perf = e.baseline_mean_errors(y_train)\n",
    "bs_perf"
   ]
  },
  {
   "cell_type": "code",
   "execution_count": 33,
   "id": "b8763e6b",
   "metadata": {},
   "outputs": [
    {
     "name": "stdout",
     "output_type": "stream",
     "text": [
      "\n",
      "        Regression Errors\n",
      "        -----------------\n",
      "        SSE: 3859672233881231.0\n",
      "        MSE: 125269294533.81036\n",
      "        RMSE: 353934.0256796602\n",
      "        ESS: 2074067730516664.8\n",
      "        TSS: 5933739964397896.0\n",
      "    \n"
     ]
    },
    {
     "data": {
      "text/plain": [
       "(125269294533.81036,\n",
       " 353934.0256796602,\n",
       " 3859672233881231.0,\n",
       " 2074067730516664.8,\n",
       " 5933739964397896.0)"
      ]
     },
     "execution_count": 33,
     "metadata": {},
     "output_type": "execute_result"
    }
   ],
   "source": [
    "# Model Performance\n",
    "lm_perf = e.regression_errors(y_train, train_cp.lm_preds)\n",
    "lm_perf"
   ]
  },
  {
   "cell_type": "code",
   "execution_count": 34,
   "id": "fa549796",
   "metadata": {},
   "outputs": [
    {
     "name": "stdout",
     "output_type": "stream",
     "text": [
      "\n",
      "        Regression Errors\n",
      "        -----------------\n",
      "        SSE: 3859672233881231.0\n",
      "        MSE: 125269294533.81036\n",
      "        RMSE: 353934.0256796602\n",
      "        ESS: 2074067730516664.8\n",
      "        TSS: 5933739964397896.0\n",
      "    \n",
      "\n",
      "        Baseline Mean Errors\n",
      "        --------------------\n",
      "        SSE: 5932177623794784.0\n",
      "        MSE: 192534407315.3998\n",
      "        RMSE: 438787.42839260993\n",
      "    \n",
      "Model is better\n"
     ]
    }
   ],
   "source": [
    "e.better_than_baseline(y_train, train_cp.lm_preds)"
   ]
  },
  {
   "cell_type": "markdown",
   "id": "66f3b3dd",
   "metadata": {},
   "source": [
    "### LassoLars"
   ]
  },
  {
   "cell_type": "code",
   "execution_count": 35,
   "id": "62e8ed6a",
   "metadata": {},
   "outputs": [],
   "source": [
    "lars = LassoLars(alpha=.3)"
   ]
  },
  {
   "cell_type": "code",
   "execution_count": 36,
   "id": "1188826a",
   "metadata": {},
   "outputs": [
    {
     "data": {
      "text/html": [
       "<style>#sk-container-id-2 {color: black;background-color: white;}#sk-container-id-2 pre{padding: 0;}#sk-container-id-2 div.sk-toggleable {background-color: white;}#sk-container-id-2 label.sk-toggleable__label {cursor: pointer;display: block;width: 100%;margin-bottom: 0;padding: 0.3em;box-sizing: border-box;text-align: center;}#sk-container-id-2 label.sk-toggleable__label-arrow:before {content: \"▸\";float: left;margin-right: 0.25em;color: #696969;}#sk-container-id-2 label.sk-toggleable__label-arrow:hover:before {color: black;}#sk-container-id-2 div.sk-estimator:hover label.sk-toggleable__label-arrow:before {color: black;}#sk-container-id-2 div.sk-toggleable__content {max-height: 0;max-width: 0;overflow: hidden;text-align: left;background-color: #f0f8ff;}#sk-container-id-2 div.sk-toggleable__content pre {margin: 0.2em;color: black;border-radius: 0.25em;background-color: #f0f8ff;}#sk-container-id-2 input.sk-toggleable__control:checked~div.sk-toggleable__content {max-height: 200px;max-width: 100%;overflow: auto;}#sk-container-id-2 input.sk-toggleable__control:checked~label.sk-toggleable__label-arrow:before {content: \"▾\";}#sk-container-id-2 div.sk-estimator input.sk-toggleable__control:checked~label.sk-toggleable__label {background-color: #d4ebff;}#sk-container-id-2 div.sk-label input.sk-toggleable__control:checked~label.sk-toggleable__label {background-color: #d4ebff;}#sk-container-id-2 input.sk-hidden--visually {border: 0;clip: rect(1px 1px 1px 1px);clip: rect(1px, 1px, 1px, 1px);height: 1px;margin: -1px;overflow: hidden;padding: 0;position: absolute;width: 1px;}#sk-container-id-2 div.sk-estimator {font-family: monospace;background-color: #f0f8ff;border: 1px dotted black;border-radius: 0.25em;box-sizing: border-box;margin-bottom: 0.5em;}#sk-container-id-2 div.sk-estimator:hover {background-color: #d4ebff;}#sk-container-id-2 div.sk-parallel-item::after {content: \"\";width: 100%;border-bottom: 1px solid gray;flex-grow: 1;}#sk-container-id-2 div.sk-label:hover label.sk-toggleable__label {background-color: #d4ebff;}#sk-container-id-2 div.sk-serial::before {content: \"\";position: absolute;border-left: 1px solid gray;box-sizing: border-box;top: 0;bottom: 0;left: 50%;z-index: 0;}#sk-container-id-2 div.sk-serial {display: flex;flex-direction: column;align-items: center;background-color: white;padding-right: 0.2em;padding-left: 0.2em;position: relative;}#sk-container-id-2 div.sk-item {position: relative;z-index: 1;}#sk-container-id-2 div.sk-parallel {display: flex;align-items: stretch;justify-content: center;background-color: white;position: relative;}#sk-container-id-2 div.sk-item::before, #sk-container-id-2 div.sk-parallel-item::before {content: \"\";position: absolute;border-left: 1px solid gray;box-sizing: border-box;top: 0;bottom: 0;left: 50%;z-index: -1;}#sk-container-id-2 div.sk-parallel-item {display: flex;flex-direction: column;z-index: 1;position: relative;background-color: white;}#sk-container-id-2 div.sk-parallel-item:first-child::after {align-self: flex-end;width: 50%;}#sk-container-id-2 div.sk-parallel-item:last-child::after {align-self: flex-start;width: 50%;}#sk-container-id-2 div.sk-parallel-item:only-child::after {width: 0;}#sk-container-id-2 div.sk-dashed-wrapped {border: 1px dashed gray;margin: 0 0.4em 0.5em 0.4em;box-sizing: border-box;padding-bottom: 0.4em;background-color: white;}#sk-container-id-2 div.sk-label label {font-family: monospace;font-weight: bold;display: inline-block;line-height: 1.2em;}#sk-container-id-2 div.sk-label-container {text-align: center;}#sk-container-id-2 div.sk-container {/* jupyter's `normalize.less` sets `[hidden] { display: none; }` but bootstrap.min.css set `[hidden] { display: none !important; }` so we also need the `!important` here to be able to override the default hidden behavior on the sphinx rendered scikit-learn.org. See: https://github.com/scikit-learn/scikit-learn/issues/21755 */display: inline-block !important;position: relative;}#sk-container-id-2 div.sk-text-repr-fallback {display: none;}</style><div id=\"sk-container-id-2\" class=\"sk-top-container\"><div class=\"sk-text-repr-fallback\"><pre>LassoLars(alpha=0.3)</pre><b>In a Jupyter environment, please rerun this cell to show the HTML representation or trust the notebook. <br />On GitHub, the HTML representation is unable to render, please try loading this page with nbviewer.org.</b></div><div class=\"sk-container\" hidden><div class=\"sk-item\"><div class=\"sk-estimator sk-toggleable\"><input class=\"sk-toggleable__control sk-hidden--visually\" id=\"sk-estimator-id-2\" type=\"checkbox\" checked><label for=\"sk-estimator-id-2\" class=\"sk-toggleable__label sk-toggleable__label-arrow\">LassoLars</label><div class=\"sk-toggleable__content\"><pre>LassoLars(alpha=0.3)</pre></div></div></div></div></div>"
      ],
      "text/plain": [
       "LassoLars(alpha=0.3)"
      ]
     },
     "execution_count": 36,
     "metadata": {},
     "output_type": "execute_result"
    }
   ],
   "source": [
    "lars.fit(X_train, y_train)"
   ]
  },
  {
   "cell_type": "code",
   "execution_count": 37,
   "id": "92323b3e",
   "metadata": {},
   "outputs": [
    {
     "data": {
      "text/html": [
       "<div>\n",
       "<style scoped>\n",
       "    .dataframe tbody tr th:only-of-type {\n",
       "        vertical-align: middle;\n",
       "    }\n",
       "\n",
       "    .dataframe tbody tr th {\n",
       "        vertical-align: top;\n",
       "    }\n",
       "\n",
       "    .dataframe thead th {\n",
       "        text-align: right;\n",
       "    }\n",
       "</style>\n",
       "<table border=\"1\" class=\"dataframe\">\n",
       "  <thead>\n",
       "    <tr style=\"text-align: right;\">\n",
       "      <th></th>\n",
       "      <th>bedrooms</th>\n",
       "      <th>bathrooms</th>\n",
       "      <th>sq_ft</th>\n",
       "      <th>tax_value</th>\n",
       "      <th>year</th>\n",
       "      <th>fips_6037.0</th>\n",
       "      <th>fips_6059.0</th>\n",
       "      <th>fips_6111.0</th>\n",
       "      <th>baseline</th>\n",
       "      <th>lm_preds</th>\n",
       "      <th>lars_preds</th>\n",
       "    </tr>\n",
       "  </thead>\n",
       "  <tbody>\n",
       "    <tr>\n",
       "      <th>25743</th>\n",
       "      <td>0.2</td>\n",
       "      <td>0.166667</td>\n",
       "      <td>0.217770</td>\n",
       "      <td>365489.0</td>\n",
       "      <td>0.448052</td>\n",
       "      <td>1</td>\n",
       "      <td>0</td>\n",
       "      <td>0</td>\n",
       "      <td>426682.254747</td>\n",
       "      <td>347520.0</td>\n",
       "      <td>347347.393502</td>\n",
       "    </tr>\n",
       "    <tr>\n",
       "      <th>15681</th>\n",
       "      <td>0.1</td>\n",
       "      <td>0.166667</td>\n",
       "      <td>0.128516</td>\n",
       "      <td>242094.0</td>\n",
       "      <td>0.493506</td>\n",
       "      <td>1</td>\n",
       "      <td>0</td>\n",
       "      <td>0</td>\n",
       "      <td>426682.254747</td>\n",
       "      <td>288128.0</td>\n",
       "      <td>287211.756243</td>\n",
       "    </tr>\n",
       "    <tr>\n",
       "      <th>25495</th>\n",
       "      <td>0.2</td>\n",
       "      <td>0.166667</td>\n",
       "      <td>0.246711</td>\n",
       "      <td>255632.0</td>\n",
       "      <td>0.512987</td>\n",
       "      <td>1</td>\n",
       "      <td>0</td>\n",
       "      <td>0</td>\n",
       "      <td>426682.254747</td>\n",
       "      <td>374784.0</td>\n",
       "      <td>374616.889524</td>\n",
       "    </tr>\n",
       "    <tr>\n",
       "      <th>38339</th>\n",
       "      <td>0.2</td>\n",
       "      <td>0.166667</td>\n",
       "      <td>0.272819</td>\n",
       "      <td>244943.0</td>\n",
       "      <td>0.597403</td>\n",
       "      <td>1</td>\n",
       "      <td>0</td>\n",
       "      <td>0</td>\n",
       "      <td>426682.254747</td>\n",
       "      <td>392320.0</td>\n",
       "      <td>392207.414684</td>\n",
       "    </tr>\n",
       "    <tr>\n",
       "      <th>27994</th>\n",
       "      <td>0.3</td>\n",
       "      <td>0.333333</td>\n",
       "      <td>0.593605</td>\n",
       "      <td>521873.0</td>\n",
       "      <td>0.805195</td>\n",
       "      <td>1</td>\n",
       "      <td>0</td>\n",
       "      <td>0</td>\n",
       "      <td>426682.254747</td>\n",
       "      <td>834816.0</td>\n",
       "      <td>834769.323087</td>\n",
       "    </tr>\n",
       "  </tbody>\n",
       "</table>\n",
       "</div>"
      ],
      "text/plain": [
       "       bedrooms  bathrooms     sq_ft  tax_value      year  fips_6037.0  \\\n",
       "25743       0.2   0.166667  0.217770   365489.0  0.448052            1   \n",
       "15681       0.1   0.166667  0.128516   242094.0  0.493506            1   \n",
       "25495       0.2   0.166667  0.246711   255632.0  0.512987            1   \n",
       "38339       0.2   0.166667  0.272819   244943.0  0.597403            1   \n",
       "27994       0.3   0.333333  0.593605   521873.0  0.805195            1   \n",
       "\n",
       "       fips_6059.0  fips_6111.0       baseline  lm_preds     lars_preds  \n",
       "25743            0            0  426682.254747  347520.0  347347.393502  \n",
       "15681            0            0  426682.254747  288128.0  287211.756243  \n",
       "25495            0            0  426682.254747  374784.0  374616.889524  \n",
       "38339            0            0  426682.254747  392320.0  392207.414684  \n",
       "27994            0            0  426682.254747  834816.0  834769.323087  "
      ]
     },
     "execution_count": 37,
     "metadata": {},
     "output_type": "execute_result"
    }
   ],
   "source": [
    "train_cp['lars_preds'] = lars.predict(X_train)\n",
    "train_cp.head()"
   ]
  },
  {
   "cell_type": "code",
   "execution_count": 38,
   "id": "3ab77477",
   "metadata": {},
   "outputs": [
    {
     "name": "stdout",
     "output_type": "stream",
     "text": [
      "\n",
      "        Baseline Mean Errors\n",
      "        --------------------\n",
      "        SSE: 5932177623794784.0\n",
      "        MSE: 192534407315.3998\n",
      "        RMSE: 438787.42839260993\n",
      "    \n"
     ]
    },
    {
     "data": {
      "text/plain": [
       "(5932177623794784.0, 192534407315.3998, 438787.42839260993)"
      ]
     },
     "execution_count": 38,
     "metadata": {},
     "output_type": "execute_result"
    }
   ],
   "source": [
    "lars_bs_errors = e.baseline_mean_errors(y_train)\n",
    "lars_bs_errors"
   ]
  },
  {
   "cell_type": "code",
   "execution_count": 39,
   "id": "9c21d808",
   "metadata": {},
   "outputs": [
    {
     "name": "stdout",
     "output_type": "stream",
     "text": [
      "\n",
      "        Regression Errors\n",
      "        -----------------\n",
      "        SSE: 3859661198506733.0\n",
      "        MSE: 125268936370.34608\n",
      "        RMSE: 353933.51970440167\n",
      "        ESS: 2070992507355090.0\n",
      "        TSS: 5930653705861823.0\n",
      "    \n"
     ]
    },
    {
     "data": {
      "text/plain": [
       "(125268936370.34608,\n",
       " 353933.51970440167,\n",
       " 3859661198506733.0,\n",
       " 2070992507355090.0,\n",
       " 5930653705861823.0)"
      ]
     },
     "execution_count": 39,
     "metadata": {},
     "output_type": "execute_result"
    }
   ],
   "source": [
    "lars_reg_errors = e.regression_errors(y_train, train_cp.lars_preds)\n",
    "lars_reg_errors"
   ]
  },
  {
   "cell_type": "code",
   "execution_count": 40,
   "id": "a86f7e62",
   "metadata": {},
   "outputs": [
    {
     "name": "stdout",
     "output_type": "stream",
     "text": [
      "\n",
      "        Regression Errors\n",
      "        -----------------\n",
      "        SSE: 3859661198506733.0\n",
      "        MSE: 125268936370.34608\n",
      "        RMSE: 353933.51970440167\n",
      "        ESS: 2070992507355090.0\n",
      "        TSS: 5930653705861823.0\n",
      "    \n",
      "\n",
      "        Baseline Mean Errors\n",
      "        --------------------\n",
      "        SSE: 5932177623794784.0\n",
      "        MSE: 192534407315.3998\n",
      "        RMSE: 438787.42839260993\n",
      "    \n",
      "Model is better\n"
     ]
    }
   ],
   "source": [
    "e.better_than_baseline(y_train, train_cp.lars_preds)"
   ]
  },
  {
   "cell_type": "markdown",
   "id": "75527599",
   "metadata": {},
   "source": [
    "### TweedieRegressor Generalized Linear Model"
   ]
  },
  {
   "cell_type": "code",
   "execution_count": 41,
   "id": "fb28e4f5",
   "metadata": {},
   "outputs": [
    {
     "data": {
      "text/plain": [
       "(0.0, 1000000.0)"
      ]
     },
     "execution_count": 41,
     "metadata": {},
     "output_type": "execute_result"
    },
    {
     "data": {
      "image/png": "[encoded data removed]",
      "text/plain": [
       "<Figure size 640x480 with 1 Axes>"
      ]
     },
     "metadata": {},
     "output_type": "display_data"
    }
   ],
   "source": [
    "sns.histplot(train_cp.tax_value)\n",
    "plt.xlim(0, 1000000)"
   ]
  },
  {
   "cell_type": "code",
   "execution_count": 42,
   "id": "491b7757",
   "metadata": {},
   "outputs": [],
   "source": [
    "glm = TweedieRegressor(power=0, alpha=1)"
   ]
  },
  {
   "cell_type": "code",
   "execution_count": 43,
   "id": "1fdbd7dc",
   "metadata": {},
   "outputs": [
    {
     "data": {
      "text/html": [
       "<style>#sk-container-id-3 {color: black;background-color: white;}#sk-container-id-3 pre{padding: 0;}#sk-container-id-3 div.sk-toggleable {background-color: white;}#sk-container-id-3 label.sk-toggleable__label {cursor: pointer;display: block;width: 100%;margin-bottom: 0;padding: 0.3em;box-sizing: border-box;text-align: center;}#sk-container-id-3 label.sk-toggleable__label-arrow:before {content: \"▸\";float: left;margin-right: 0.25em;color: #696969;}#sk-container-id-3 label.sk-toggleable__label-arrow:hover:before {color: black;}#sk-container-id-3 div.sk-estimator:hover label.sk-toggleable__label-arrow:before {color: black;}#sk-container-id-3 div.sk-toggleable__content {max-height: 0;max-width: 0;overflow: hidden;text-align: left;background-color: #f0f8ff;}#sk-container-id-3 div.sk-toggleable__content pre {margin: 0.2em;color: black;border-radius: 0.25em;background-color: #f0f8ff;}#sk-container-id-3 input.sk-toggleable__control:checked~div.sk-toggleable__content {max-height: 200px;max-width: 100%;overflow: auto;}#sk-container-id-3 input.sk-toggleable__control:checked~label.sk-toggleable__label-arrow:before {content: \"▾\";}#sk-container-id-3 div.sk-estimator input.sk-toggleable__control:checked~label.sk-toggleable__label {background-color: #d4ebff;}#sk-container-id-3 div.sk-label input.sk-toggleable__control:checked~label.sk-toggleable__label {background-color: #d4ebff;}#sk-container-id-3 input.sk-hidden--visually {border: 0;clip: rect(1px 1px 1px 1px);clip: rect(1px, 1px, 1px, 1px);height: 1px;margin: -1px;overflow: hidden;padding: 0;position: absolute;width: 1px;}#sk-container-id-3 div.sk-estimator {font-family: monospace;background-color: #f0f8ff;border: 1px dotted black;border-radius: 0.25em;box-sizing: border-box;margin-bottom: 0.5em;}#sk-container-id-3 div.sk-estimator:hover {background-color: #d4ebff;}#sk-container-id-3 div.sk-parallel-item::after {content: \"\";width: 100%;border-bottom: 1px solid gray;flex-grow: 1;}#sk-container-id-3 div.sk-label:hover label.sk-toggleable__label {background-color: #d4ebff;}#sk-container-id-3 div.sk-serial::before {content: \"\";position: absolute;border-left: 1px solid gray;box-sizing: border-box;top: 0;bottom: 0;left: 50%;z-index: 0;}#sk-container-id-3 div.sk-serial {display: flex;flex-direction: column;align-items: center;background-color: white;padding-right: 0.2em;padding-left: 0.2em;position: relative;}#sk-container-id-3 div.sk-item {position: relative;z-index: 1;}#sk-container-id-3 div.sk-parallel {display: flex;align-items: stretch;justify-content: center;background-color: white;position: relative;}#sk-container-id-3 div.sk-item::before, #sk-container-id-3 div.sk-parallel-item::before {content: \"\";position: absolute;border-left: 1px solid gray;box-sizing: border-box;top: 0;bottom: 0;left: 50%;z-index: -1;}#sk-container-id-3 div.sk-parallel-item {display: flex;flex-direction: column;z-index: 1;position: relative;background-color: white;}#sk-container-id-3 div.sk-parallel-item:first-child::after {align-self: flex-end;width: 50%;}#sk-container-id-3 div.sk-parallel-item:last-child::after {align-self: flex-start;width: 50%;}#sk-container-id-3 div.sk-parallel-item:only-child::after {width: 0;}#sk-container-id-3 div.sk-dashed-wrapped {border: 1px dashed gray;margin: 0 0.4em 0.5em 0.4em;box-sizing: border-box;padding-bottom: 0.4em;background-color: white;}#sk-container-id-3 div.sk-label label {font-family: monospace;font-weight: bold;display: inline-block;line-height: 1.2em;}#sk-container-id-3 div.sk-label-container {text-align: center;}#sk-container-id-3 div.sk-container {/* jupyter's `normalize.less` sets `[hidden] { display: none; }` but bootstrap.min.css set `[hidden] { display: none !important; }` so we also need the `!important` here to be able to override the default hidden behavior on the sphinx rendered scikit-learn.org. See: https://github.com/scikit-learn/scikit-learn/issues/21755 */display: inline-block !important;position: relative;}#sk-container-id-3 div.sk-text-repr-fallback {display: none;}</style><div id=\"sk-container-id-3\" class=\"sk-top-container\"><div class=\"sk-text-repr-fallback\"><pre>TweedieRegressor(alpha=1, power=0)</pre><b>In a Jupyter environment, please rerun this cell to show the HTML representation or trust the notebook. <br />On GitHub, the HTML representation is unable to render, please try loading this page with nbviewer.org.</b></div><div class=\"sk-container\" hidden><div class=\"sk-item\"><div class=\"sk-estimator sk-toggleable\"><input class=\"sk-toggleable__control sk-hidden--visually\" id=\"sk-estimator-id-3\" type=\"checkbox\" checked><label for=\"sk-estimator-id-3\" class=\"sk-toggleable__label sk-toggleable__label-arrow\">TweedieRegressor</label><div class=\"sk-toggleable__content\"><pre>TweedieRegressor(alpha=1, power=0)</pre></div></div></div></div></div>"
      ],
      "text/plain": [
       "TweedieRegressor(alpha=1, power=0)"
      ]
     },
     "execution_count": 43,
     "metadata": {},
     "output_type": "execute_result"
    }
   ],
   "source": [
    "glm.fit(X_train, y_train)"
   ]
  },
  {
   "cell_type": "code",
   "execution_count": 44,
   "id": "61ef5496",
   "metadata": {},
   "outputs": [],
   "source": [
    "# GLM Predictions\n",
    "train_cp['glm_preds'] = glm.predict(X_train)"
   ]
  },
  {
   "cell_type": "code",
   "execution_count": 45,
   "id": "327571e9",
   "metadata": {},
   "outputs": [
    {
     "data": {
      "text/html": [
       "<div>\n",
       "<style scoped>\n",
       "    .dataframe tbody tr th:only-of-type {\n",
       "        vertical-align: middle;\n",
       "    }\n",
       "\n",
       "    .dataframe tbody tr th {\n",
       "        vertical-align: top;\n",
       "    }\n",
       "\n",
       "    .dataframe thead th {\n",
       "        text-align: right;\n",
       "    }\n",
       "</style>\n",
       "<table border=\"1\" class=\"dataframe\">\n",
       "  <thead>\n",
       "    <tr style=\"text-align: right;\">\n",
       "      <th></th>\n",
       "      <th>bedrooms</th>\n",
       "      <th>bathrooms</th>\n",
       "      <th>sq_ft</th>\n",
       "      <th>tax_value</th>\n",
       "      <th>year</th>\n",
       "      <th>fips_6037.0</th>\n",
       "      <th>fips_6059.0</th>\n",
       "      <th>fips_6111.0</th>\n",
       "      <th>baseline</th>\n",
       "      <th>lm_preds</th>\n",
       "      <th>lars_preds</th>\n",
       "      <th>glm_preds</th>\n",
       "    </tr>\n",
       "  </thead>\n",
       "  <tbody>\n",
       "    <tr>\n",
       "      <th>25743</th>\n",
       "      <td>0.2</td>\n",
       "      <td>0.166667</td>\n",
       "      <td>0.217770</td>\n",
       "      <td>365489.0</td>\n",
       "      <td>0.448052</td>\n",
       "      <td>1</td>\n",
       "      <td>0</td>\n",
       "      <td>0</td>\n",
       "      <td>426682.254747</td>\n",
       "      <td>347520.0</td>\n",
       "      <td>347347.393502</td>\n",
       "      <td>412706.102724</td>\n",
       "    </tr>\n",
       "    <tr>\n",
       "      <th>15681</th>\n",
       "      <td>0.1</td>\n",
       "      <td>0.166667</td>\n",
       "      <td>0.128516</td>\n",
       "      <td>242094.0</td>\n",
       "      <td>0.493506</td>\n",
       "      <td>1</td>\n",
       "      <td>0</td>\n",
       "      <td>0</td>\n",
       "      <td>426682.254747</td>\n",
       "      <td>288128.0</td>\n",
       "      <td>287211.756243</td>\n",
       "      <td>409025.408641</td>\n",
       "    </tr>\n",
       "    <tr>\n",
       "      <th>25495</th>\n",
       "      <td>0.2</td>\n",
       "      <td>0.166667</td>\n",
       "      <td>0.246711</td>\n",
       "      <td>255632.0</td>\n",
       "      <td>0.512987</td>\n",
       "      <td>1</td>\n",
       "      <td>0</td>\n",
       "      <td>0</td>\n",
       "      <td>426682.254747</td>\n",
       "      <td>374784.0</td>\n",
       "      <td>374616.889524</td>\n",
       "      <td>414587.110512</td>\n",
       "    </tr>\n",
       "    <tr>\n",
       "      <th>38339</th>\n",
       "      <td>0.2</td>\n",
       "      <td>0.166667</td>\n",
       "      <td>0.272819</td>\n",
       "      <td>244943.0</td>\n",
       "      <td>0.597403</td>\n",
       "      <td>1</td>\n",
       "      <td>0</td>\n",
       "      <td>0</td>\n",
       "      <td>426682.254747</td>\n",
       "      <td>392320.0</td>\n",
       "      <td>392207.414684</td>\n",
       "      <td>416602.086440</td>\n",
       "    </tr>\n",
       "    <tr>\n",
       "      <th>27994</th>\n",
       "      <td>0.3</td>\n",
       "      <td>0.333333</td>\n",
       "      <td>0.593605</td>\n",
       "      <td>521873.0</td>\n",
       "      <td>0.805195</td>\n",
       "      <td>1</td>\n",
       "      <td>0</td>\n",
       "      <td>0</td>\n",
       "      <td>426682.254747</td>\n",
       "      <td>834816.0</td>\n",
       "      <td>834769.323087</td>\n",
       "      <td>437223.165265</td>\n",
       "    </tr>\n",
       "  </tbody>\n",
       "</table>\n",
       "</div>"
      ],
      "text/plain": [
       "       bedrooms  bathrooms     sq_ft  tax_value      year  fips_6037.0  \\\n",
       "25743       0.2   0.166667  0.217770   365489.0  0.448052            1   \n",
       "15681       0.1   0.166667  0.128516   242094.0  0.493506            1   \n",
       "25495       0.2   0.166667  0.246711   255632.0  0.512987            1   \n",
       "38339       0.2   0.166667  0.272819   244943.0  0.597403            1   \n",
       "27994       0.3   0.333333  0.593605   521873.0  0.805195            1   \n",
       "\n",
       "       fips_6059.0  fips_6111.0       baseline  lm_preds     lars_preds  \\\n",
       "25743            0            0  426682.254747  347520.0  347347.393502   \n",
       "15681            0            0  426682.254747  288128.0  287211.756243   \n",
       "25495            0            0  426682.254747  374784.0  374616.889524   \n",
       "38339            0            0  426682.254747  392320.0  392207.414684   \n",
       "27994            0            0  426682.254747  834816.0  834769.323087   \n",
       "\n",
       "           glm_preds  \n",
       "25743  412706.102724  \n",
       "15681  409025.408641  \n",
       "25495  414587.110512  \n",
       "38339  416602.086440  \n",
       "27994  437223.165265  "
      ]
     },
     "execution_count": 45,
     "metadata": {},
     "output_type": "execute_result"
    }
   ],
   "source": [
    "train_cp.head()"
   ]
  },
  {
   "cell_type": "code",
   "execution_count": 46,
   "id": "4cbac2fc",
   "metadata": {},
   "outputs": [
    {
     "name": "stdout",
     "output_type": "stream",
     "text": [
      "\n",
      "        Regression Errors\n",
      "        -----------------\n",
      "        SSE: 5744408906294160.0\n",
      "        MSE: 186440196887.2857\n",
      "        RMSE: 431787.21251015033\n",
      "        ESS: 9203723212320.95\n",
      "        TSS: 5753612629506481.0\n",
      "    \n",
      "\n",
      "        Baseline Mean Errors\n",
      "        --------------------\n",
      "        SSE: 5932177623794784.0\n",
      "        MSE: 192534407315.3998\n",
      "        RMSE: 438787.42839260993\n",
      "    \n",
      "Model is better\n"
     ]
    }
   ],
   "source": [
    "e.better_than_baseline(y_train, train_cp.glm_preds)"
   ]
  },
  {
   "cell_type": "markdown",
   "id": "941eab81",
   "metadata": {},
   "source": [
    "### Polynomial Regression"
   ]
  },
  {
   "cell_type": "code",
   "execution_count": 47,
   "id": "1aac249b",
   "metadata": {},
   "outputs": [],
   "source": [
    "pf = PolynomialFeatures(degree=2)"
   ]
  },
  {
   "cell_type": "code",
   "execution_count": 48,
   "id": "b477501a",
   "metadata": {},
   "outputs": [
    {
     "data": {
      "text/html": [
       "<style>#sk-container-id-4 {color: black;background-color: white;}#sk-container-id-4 pre{padding: 0;}#sk-container-id-4 div.sk-toggleable {background-color: white;}#sk-container-id-4 label.sk-toggleable__label {cursor: pointer;display: block;width: 100%;margin-bottom: 0;padding: 0.3em;box-sizing: border-box;text-align: center;}#sk-container-id-4 label.sk-toggleable__label-arrow:before {content: \"▸\";float: left;margin-right: 0.25em;color: #696969;}#sk-container-id-4 label.sk-toggleable__label-arrow:hover:before {color: black;}#sk-container-id-4 div.sk-estimator:hover label.sk-toggleable__label-arrow:before {color: black;}#sk-container-id-4 div.sk-toggleable__content {max-height: 0;max-width: 0;overflow: hidden;text-align: left;background-color: #f0f8ff;}#sk-container-id-4 div.sk-toggleable__content pre {margin: 0.2em;color: black;border-radius: 0.25em;background-color: #f0f8ff;}#sk-container-id-4 input.sk-toggleable__control:checked~div.sk-toggleable__content {max-height: 200px;max-width: 100%;overflow: auto;}#sk-container-id-4 input.sk-toggleable__control:checked~label.sk-toggleable__label-arrow:before {content: \"▾\";}#sk-container-id-4 div.sk-estimator input.sk-toggleable__control:checked~label.sk-toggleable__label {background-color: #d4ebff;}#sk-container-id-4 div.sk-label input.sk-toggleable__control:checked~label.sk-toggleable__label {background-color: #d4ebff;}#sk-container-id-4 input.sk-hidden--visually {border: 0;clip: rect(1px 1px 1px 1px);clip: rect(1px, 1px, 1px, 1px);height: 1px;margin: -1px;overflow: hidden;padding: 0;position: absolute;width: 1px;}#sk-container-id-4 div.sk-estimator {font-family: monospace;background-color: #f0f8ff;border: 1px dotted black;border-radius: 0.25em;box-sizing: border-box;margin-bottom: 0.5em;}#sk-container-id-4 div.sk-estimator:hover {background-color: #d4ebff;}#sk-container-id-4 div.sk-parallel-item::after {content: \"\";width: 100%;border-bottom: 1px solid gray;flex-grow: 1;}#sk-container-id-4 div.sk-label:hover label.sk-toggleable__label {background-color: #d4ebff;}#sk-container-id-4 div.sk-serial::before {content: \"\";position: absolute;border-left: 1px solid gray;box-sizing: border-box;top: 0;bottom: 0;left: 50%;z-index: 0;}#sk-container-id-4 div.sk-serial {display: flex;flex-direction: column;align-items: center;background-color: white;padding-right: 0.2em;padding-left: 0.2em;position: relative;}#sk-container-id-4 div.sk-item {position: relative;z-index: 1;}#sk-container-id-4 div.sk-parallel {display: flex;align-items: stretch;justify-content: center;background-color: white;position: relative;}#sk-container-id-4 div.sk-item::before, #sk-container-id-4 div.sk-parallel-item::before {content: \"\";position: absolute;border-left: 1px solid gray;box-sizing: border-box;top: 0;bottom: 0;left: 50%;z-index: -1;}#sk-container-id-4 div.sk-parallel-item {display: flex;flex-direction: column;z-index: 1;position: relative;background-color: white;}#sk-container-id-4 div.sk-parallel-item:first-child::after {align-self: flex-end;width: 50%;}#sk-container-id-4 div.sk-parallel-item:last-child::after {align-self: flex-start;width: 50%;}#sk-container-id-4 div.sk-parallel-item:only-child::after {width: 0;}#sk-container-id-4 div.sk-dashed-wrapped {border: 1px dashed gray;margin: 0 0.4em 0.5em 0.4em;box-sizing: border-box;padding-bottom: 0.4em;background-color: white;}#sk-container-id-4 div.sk-label label {font-family: monospace;font-weight: bold;display: inline-block;line-height: 1.2em;}#sk-container-id-4 div.sk-label-container {text-align: center;}#sk-container-id-4 div.sk-container {/* jupyter's `normalize.less` sets `[hidden] { display: none; }` but bootstrap.min.css set `[hidden] { display: none !important; }` so we also need the `!important` here to be able to override the default hidden behavior on the sphinx rendered scikit-learn.org. See: https://github.com/scikit-learn/scikit-learn/issues/21755 */display: inline-block !important;position: relative;}#sk-container-id-4 div.sk-text-repr-fallback {display: none;}</style><div id=\"sk-container-id-4\" class=\"sk-top-container\"><div class=\"sk-text-repr-fallback\"><pre>PolynomialFeatures()</pre><b>In a Jupyter environment, please rerun this cell to show the HTML representation or trust the notebook. <br />On GitHub, the HTML representation is unable to render, please try loading this page with nbviewer.org.</b></div><div class=\"sk-container\" hidden><div class=\"sk-item\"><div class=\"sk-estimator sk-toggleable\"><input class=\"sk-toggleable__control sk-hidden--visually\" id=\"sk-estimator-id-4\" type=\"checkbox\" checked><label for=\"sk-estimator-id-4\" class=\"sk-toggleable__label sk-toggleable__label-arrow\">PolynomialFeatures</label><div class=\"sk-toggleable__content\"><pre>PolynomialFeatures()</pre></div></div></div></div></div>"
      ],
      "text/plain": [
       "PolynomialFeatures()"
      ]
     },
     "execution_count": 48,
     "metadata": {},
     "output_type": "execute_result"
    }
   ],
   "source": [
    "pf.fit(X_train, y_train)"
   ]
  },
  {
   "cell_type": "code",
   "execution_count": 49,
   "id": "0e5acbb5",
   "metadata": {},
   "outputs": [],
   "source": [
    "X_train_degree2 = pf.fit_transform(X_train)"
   ]
  },
  {
   "cell_type": "code",
   "execution_count": 50,
   "id": "6a075d8a",
   "metadata": {},
   "outputs": [],
   "source": [
    "lm2 = LinearRegression(normalize=True)"
   ]
  },
  {
   "cell_type": "code",
   "execution_count": 51,
   "id": "b1092426",
   "metadata": {},
   "outputs": [
    {
     "data": {
      "text/html": [
       "<style>#sk-container-id-5 {color: black;background-color: white;}#sk-container-id-5 pre{padding: 0;}#sk-container-id-5 div.sk-toggleable {background-color: white;}#sk-container-id-5 label.sk-toggleable__label {cursor: pointer;display: block;width: 100%;margin-bottom: 0;padding: 0.3em;box-sizing: border-box;text-align: center;}#sk-container-id-5 label.sk-toggleable__label-arrow:before {content: \"▸\";float: left;margin-right: 0.25em;color: #696969;}#sk-container-id-5 label.sk-toggleable__label-arrow:hover:before {color: black;}#sk-container-id-5 div.sk-estimator:hover label.sk-toggleable__label-arrow:before {color: black;}#sk-container-id-5 div.sk-toggleable__content {max-height: 0;max-width: 0;overflow: hidden;text-align: left;background-color: #f0f8ff;}#sk-container-id-5 div.sk-toggleable__content pre {margin: 0.2em;color: black;border-radius: 0.25em;background-color: #f0f8ff;}#sk-container-id-5 input.sk-toggleable__control:checked~div.sk-toggleable__content {max-height: 200px;max-width: 100%;overflow: auto;}#sk-container-id-5 input.sk-toggleable__control:checked~label.sk-toggleable__label-arrow:before {content: \"▾\";}#sk-container-id-5 div.sk-estimator input.sk-toggleable__control:checked~label.sk-toggleable__label {background-color: #d4ebff;}#sk-container-id-5 div.sk-label input.sk-toggleable__control:checked~label.sk-toggleable__label {background-color: #d4ebff;}#sk-container-id-5 input.sk-hidden--visually {border: 0;clip: rect(1px 1px 1px 1px);clip: rect(1px, 1px, 1px, 1px);height: 1px;margin: -1px;overflow: hidden;padding: 0;position: absolute;width: 1px;}#sk-container-id-5 div.sk-estimator {font-family: monospace;background-color: #f0f8ff;border: 1px dotted black;border-radius: 0.25em;box-sizing: border-box;margin-bottom: 0.5em;}#sk-container-id-5 div.sk-estimator:hover {background-color: #d4ebff;}#sk-container-id-5 div.sk-parallel-item::after {content: \"\";width: 100%;border-bottom: 1px solid gray;flex-grow: 1;}#sk-container-id-5 div.sk-label:hover label.sk-toggleable__label {background-color: #d4ebff;}#sk-container-id-5 div.sk-serial::before {content: \"\";position: absolute;border-left: 1px solid gray;box-sizing: border-box;top: 0;bottom: 0;left: 50%;z-index: 0;}#sk-container-id-5 div.sk-serial {display: flex;flex-direction: column;align-items: center;background-color: white;padding-right: 0.2em;padding-left: 0.2em;position: relative;}#sk-container-id-5 div.sk-item {position: relative;z-index: 1;}#sk-container-id-5 div.sk-parallel {display: flex;align-items: stretch;justify-content: center;background-color: white;position: relative;}#sk-container-id-5 div.sk-item::before, #sk-container-id-5 div.sk-parallel-item::before {content: \"\";position: absolute;border-left: 1px solid gray;box-sizing: border-box;top: 0;bottom: 0;left: 50%;z-index: -1;}#sk-container-id-5 div.sk-parallel-item {display: flex;flex-direction: column;z-index: 1;position: relative;background-color: white;}#sk-container-id-5 div.sk-parallel-item:first-child::after {align-self: flex-end;width: 50%;}#sk-container-id-5 div.sk-parallel-item:last-child::after {align-self: flex-start;width: 50%;}#sk-container-id-5 div.sk-parallel-item:only-child::after {width: 0;}#sk-container-id-5 div.sk-dashed-wrapped {border: 1px dashed gray;margin: 0 0.4em 0.5em 0.4em;box-sizing: border-box;padding-bottom: 0.4em;background-color: white;}#sk-container-id-5 div.sk-label label {font-family: monospace;font-weight: bold;display: inline-block;line-height: 1.2em;}#sk-container-id-5 div.sk-label-container {text-align: center;}#sk-container-id-5 div.sk-container {/* jupyter's `normalize.less` sets `[hidden] { display: none; }` but bootstrap.min.css set `[hidden] { display: none !important; }` so we also need the `!important` here to be able to override the default hidden behavior on the sphinx rendered scikit-learn.org. See: https://github.com/scikit-learn/scikit-learn/issues/21755 */display: inline-block !important;position: relative;}#sk-container-id-5 div.sk-text-repr-fallback {display: none;}</style><div id=\"sk-container-id-5\" class=\"sk-top-container\"><div class=\"sk-text-repr-fallback\"><pre>LinearRegression(normalize=True)</pre><b>In a Jupyter environment, please rerun this cell to show the HTML representation or trust the notebook. <br />On GitHub, the HTML representation is unable to render, please try loading this page with nbviewer.org.</b></div><div class=\"sk-container\" hidden><div class=\"sk-item\"><div class=\"sk-estimator sk-toggleable\"><input class=\"sk-toggleable__control sk-hidden--visually\" id=\"sk-estimator-id-5\" type=\"checkbox\" checked><label for=\"sk-estimator-id-5\" class=\"sk-toggleable__label sk-toggleable__label-arrow\">LinearRegression</label><div class=\"sk-toggleable__content\"><pre>LinearRegression(normalize=True)</pre></div></div></div></div></div>"
      ],
      "text/plain": [
       "LinearRegression(normalize=True)"
      ]
     },
     "execution_count": 51,
     "metadata": {},
     "output_type": "execute_result"
    }
   ],
   "source": [
    "lm2.fit(X_train_degree2, y_train)"
   ]
  },
  {
   "cell_type": "code",
   "execution_count": 52,
   "id": "9584171e",
   "metadata": {},
   "outputs": [],
   "source": [
    "train_cp['pf_preds'] = lm2.predict(X_train_degree2)"
   ]
  },
  {
   "cell_type": "code",
   "execution_count": 53,
   "id": "c5f51a5f",
   "metadata": {},
   "outputs": [
    {
     "name": "stdout",
     "output_type": "stream",
     "text": [
      "\n",
      "        Regression Errors\n",
      "        -----------------\n",
      "        SSE: 3597246361399823.0\n",
      "        MSE: 116752015883.93181\n",
      "        RMSE: 341689.9411512312\n",
      "        ESS: 2341386819614757.5\n",
      "        TSS: 5938633181014580.0\n",
      "    \n",
      "\n",
      "        Baseline Mean Errors\n",
      "        --------------------\n",
      "        SSE: 5932177623794784.0\n",
      "        MSE: 192534407315.3998\n",
      "        RMSE: 438787.42839260993\n",
      "    \n",
      "Model is better\n"
     ]
    }
   ],
   "source": [
    "e.better_than_baseline(y_train, train_cp.pf_preds)"
   ]
  },
  {
   "cell_type": "code",
   "execution_count": 54,
   "id": "10e93d3e",
   "metadata": {},
   "outputs": [
    {
     "data": {
      "text/html": [
       "<div>\n",
       "<style scoped>\n",
       "    .dataframe tbody tr th:only-of-type {\n",
       "        vertical-align: middle;\n",
       "    }\n",
       "\n",
       "    .dataframe tbody tr th {\n",
       "        vertical-align: top;\n",
       "    }\n",
       "\n",
       "    .dataframe thead th {\n",
       "        text-align: right;\n",
       "    }\n",
       "</style>\n",
       "<table border=\"1\" class=\"dataframe\">\n",
       "  <thead>\n",
       "    <tr style=\"text-align: right;\">\n",
       "      <th></th>\n",
       "      <th>bedrooms</th>\n",
       "      <th>bathrooms</th>\n",
       "      <th>sq_ft</th>\n",
       "      <th>tax_value</th>\n",
       "      <th>year</th>\n",
       "      <th>fips_6037.0</th>\n",
       "      <th>fips_6059.0</th>\n",
       "      <th>fips_6111.0</th>\n",
       "    </tr>\n",
       "  </thead>\n",
       "  <tbody>\n",
       "    <tr>\n",
       "      <th>0</th>\n",
       "      <td>2.0</td>\n",
       "      <td>1.0</td>\n",
       "      <td>1412.0</td>\n",
       "      <td>222671.0</td>\n",
       "      <td>1947.0</td>\n",
       "      <td>1</td>\n",
       "      <td>0</td>\n",
       "      <td>0</td>\n",
       "    </tr>\n",
       "    <tr>\n",
       "      <th>1</th>\n",
       "      <td>3.0</td>\n",
       "      <td>2.0</td>\n",
       "      <td>1296.0</td>\n",
       "      <td>64968.0</td>\n",
       "      <td>1955.0</td>\n",
       "      <td>1</td>\n",
       "      <td>0</td>\n",
       "      <td>0</td>\n",
       "    </tr>\n",
       "    <tr>\n",
       "      <th>2</th>\n",
       "      <td>3.0</td>\n",
       "      <td>1.0</td>\n",
       "      <td>1044.0</td>\n",
       "      <td>126800.0</td>\n",
       "      <td>1947.0</td>\n",
       "      <td>1</td>\n",
       "      <td>0</td>\n",
       "      <td>0</td>\n",
       "    </tr>\n",
       "    <tr>\n",
       "      <th>3</th>\n",
       "      <td>3.0</td>\n",
       "      <td>2.0</td>\n",
       "      <td>1336.0</td>\n",
       "      <td>213833.0</td>\n",
       "      <td>1955.0</td>\n",
       "      <td>1</td>\n",
       "      <td>0</td>\n",
       "      <td>0</td>\n",
       "    </tr>\n",
       "    <tr>\n",
       "      <th>4</th>\n",
       "      <td>3.0</td>\n",
       "      <td>2.0</td>\n",
       "      <td>1510.0</td>\n",
       "      <td>338022.0</td>\n",
       "      <td>1979.0</td>\n",
       "      <td>1</td>\n",
       "      <td>0</td>\n",
       "      <td>0</td>\n",
       "    </tr>\n",
       "    <tr>\n",
       "      <th>...</th>\n",
       "      <td>...</td>\n",
       "      <td>...</td>\n",
       "      <td>...</td>\n",
       "      <td>...</td>\n",
       "      <td>...</td>\n",
       "      <td>...</td>\n",
       "      <td>...</td>\n",
       "      <td>...</td>\n",
       "    </tr>\n",
       "    <tr>\n",
       "      <th>56074</th>\n",
       "      <td>3.0</td>\n",
       "      <td>2.0</td>\n",
       "      <td>2068.0</td>\n",
       "      <td>134592.0</td>\n",
       "      <td>1960.0</td>\n",
       "      <td>1</td>\n",
       "      <td>0</td>\n",
       "      <td>0</td>\n",
       "    </tr>\n",
       "    <tr>\n",
       "      <th>56075</th>\n",
       "      <td>3.0</td>\n",
       "      <td>2.0</td>\n",
       "      <td>1872.0</td>\n",
       "      <td>703466.0</td>\n",
       "      <td>1930.0</td>\n",
       "      <td>1</td>\n",
       "      <td>0</td>\n",
       "      <td>0</td>\n",
       "    </tr>\n",
       "    <tr>\n",
       "      <th>56076</th>\n",
       "      <td>2.0</td>\n",
       "      <td>2.0</td>\n",
       "      <td>1327.0</td>\n",
       "      <td>301499.0</td>\n",
       "      <td>1951.0</td>\n",
       "      <td>1</td>\n",
       "      <td>0</td>\n",
       "      <td>0</td>\n",
       "    </tr>\n",
       "    <tr>\n",
       "      <th>56077</th>\n",
       "      <td>3.0</td>\n",
       "      <td>2.0</td>\n",
       "      <td>2168.0</td>\n",
       "      <td>858901.0</td>\n",
       "      <td>1952.0</td>\n",
       "      <td>1</td>\n",
       "      <td>0</td>\n",
       "      <td>0</td>\n",
       "    </tr>\n",
       "    <tr>\n",
       "      <th>56078</th>\n",
       "      <td>4.0</td>\n",
       "      <td>3.0</td>\n",
       "      <td>2236.0</td>\n",
       "      <td>671052.0</td>\n",
       "      <td>1965.0</td>\n",
       "      <td>1</td>\n",
       "      <td>0</td>\n",
       "      <td>0</td>\n",
       "    </tr>\n",
       "  </tbody>\n",
       "</table>\n",
       "<p>55020 rows × 8 columns</p>\n",
       "</div>"
      ],
      "text/plain": [
       "       bedrooms  bathrooms   sq_ft  tax_value    year  fips_6037.0  \\\n",
       "0           2.0        1.0  1412.0   222671.0  1947.0            1   \n",
       "1           3.0        2.0  1296.0    64968.0  1955.0            1   \n",
       "2           3.0        1.0  1044.0   126800.0  1947.0            1   \n",
       "3           3.0        2.0  1336.0   213833.0  1955.0            1   \n",
       "4           3.0        2.0  1510.0   338022.0  1979.0            1   \n",
       "...         ...        ...     ...        ...     ...          ...   \n",
       "56074       3.0        2.0  2068.0   134592.0  1960.0            1   \n",
       "56075       3.0        2.0  1872.0   703466.0  1930.0            1   \n",
       "56076       2.0        2.0  1327.0   301499.0  1951.0            1   \n",
       "56077       3.0        2.0  2168.0   858901.0  1952.0            1   \n",
       "56078       4.0        3.0  2236.0   671052.0  1965.0            1   \n",
       "\n",
       "       fips_6059.0  fips_6111.0  \n",
       "0                0            0  \n",
       "1                0            0  \n",
       "2                0            0  \n",
       "3                0            0  \n",
       "4                0            0  \n",
       "...            ...          ...  \n",
       "56074            0            0  \n",
       "56075            0            0  \n",
       "56076            0            0  \n",
       "56077            0            0  \n",
       "56078            0            0  \n",
       "\n",
       "[55020 rows x 8 columns]"
      ]
     },
     "execution_count": 54,
     "metadata": {},
     "output_type": "execute_result"
    }
   ],
   "source": [
    "df"
   ]
  },
  {
   "cell_type": "code",
   "execution_count": null,
   "id": "49f740e6",
   "metadata": {},
   "outputs": [],
   "source": []
  }
 ],
 "metadata": {
  "kernelspec": {
   "display_name": "Python 3 (ipykernel)",
   "language": "python",
   "name": "python3"
  },
  "language_info": {
   "codemirror_mode": {
    "name": "ipython",
    "version": 3
   },
   "file_extension": ".py",
   "mimetype": "text/x-python",
   "name": "python",
   "nbconvert_exporter": "python",
   "pygments_lexer": "ipython3",
   "version": "3.9.15"
  },
  "toc": {
   "base_numbering": 1,
   "nav_menu": {},
   "number_sections": true,
   "sideBar": true,
   "skip_h1_title": false,
   "title_cell": "Table of Contents",
   "title_sidebar": "Contents",
   "toc_cell": false,
   "toc_position": {},
   "toc_section_display": true,
   "toc_window_display": false
  }
 },
 "nbformat": 4,
 "nbformat_minor": 5
}
