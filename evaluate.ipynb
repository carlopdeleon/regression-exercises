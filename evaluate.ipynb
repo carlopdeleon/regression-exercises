{
 "cells": [
  {
   "cell_type": "code",
   "execution_count": 1,
   "id": "6a3310e0",
   "metadata": {},
   "outputs": [],
   "source": [
    "import pandas as pd\n",
    "import numpy as np\n",
    "from scipy import stats\n",
    "from pydataset import data\n",
    "import os\n",
    "import env\n",
    "import acquire as a\n",
    "import prepare as p\n",
    "import wrangle as w\n",
    "\n",
    "import matplotlib.pyplot as plt\n",
    "import seaborn as sns\n",
    "%matplotlib inline\n",
    "\n",
    "from sklearn.model_selection import train_test_split\n",
    "from sklearn.impute import SimpleImputer\n",
    "from sklearn.metrics import accuracy_score\n",
    "from sklearn.metrics import precision_score\n",
    "from sklearn.metrics import recall_score\n",
    "from sklearn.metrics import classification_report\n",
    "from sklearn.tree import DecisionTreeClassifier, plot_tree\n",
    "from sklearn.model_selection import train_test_split\n",
    "from sklearn.metrics import confusion_matrix\n",
    "from sklearn.ensemble import RandomForestClassifier\n",
    "from sklearn.neighbors import KNeighborsClassifier\n",
    "from sklearn.metrics import ConfusionMatrixDisplay\n",
    "from sklearn.linear_model import LogisticRegression\n",
    "\n",
    "from sklearn.preprocessing import RobustScaler\n",
    "from sklearn.preprocessing import StandardScaler\n",
    "from sklearn.preprocessing import MinMaxScaler\n",
    "from scipy import stats\n",
    "from scipy.stats import pearsonr, spearmanr\n",
    "\n",
    "import warnings\n",
    "warnings.filterwarnings(\"ignore\")\n",
    "\n",
    "from sklearn.metrics import mean_squared_error, r2_score, explained_variance_score\n",
    "from sklearn.linear_model import LinearRegression\n",
    "from sklearn.feature_selection import f_regression \n",
    "from math import sqrt"
   ]
  },
  {
   "cell_type": "code",
   "execution_count": 2,
   "id": "f5595bbc",
   "metadata": {},
   "outputs": [],
   "source": [
    "# wrangle zillow\n",
    "df = w.wrangle_zillow()"
   ]
  },
  {
   "cell_type": "code",
   "execution_count": 3,
   "id": "0d678fd7",
   "metadata": {},
   "outputs": [],
   "source": [
    "# reset index\n",
    "df = df.reset_index().drop('index',axis=1)"
   ]
  },
  {
   "cell_type": "code",
   "execution_count": 4,
   "id": "18e9d6ed",
   "metadata": {},
   "outputs": [
    {
     "data": {
      "text/html": [
       "<div>\n",
       "<style scoped>\n",
       "    .dataframe tbody tr th:only-of-type {\n",
       "        vertical-align: middle;\n",
       "    }\n",
       "\n",
       "    .dataframe tbody tr th {\n",
       "        vertical-align: top;\n",
       "    }\n",
       "\n",
       "    .dataframe thead th {\n",
       "        text-align: right;\n",
       "    }\n",
       "</style>\n",
       "<table border=\"1\" class=\"dataframe\">\n",
       "  <thead>\n",
       "    <tr style=\"text-align: right;\">\n",
       "      <th></th>\n",
       "      <th>bedrooms</th>\n",
       "      <th>bathrooms</th>\n",
       "      <th>sq_ft</th>\n",
       "      <th>tax_value</th>\n",
       "      <th>year</th>\n",
       "      <th>tax_amount</th>\n",
       "      <th>fips</th>\n",
       "      <th>tax_rate</th>\n",
       "    </tr>\n",
       "  </thead>\n",
       "  <tbody>\n",
       "    <tr>\n",
       "      <th>0</th>\n",
       "      <td>4.0</td>\n",
       "      <td>2.0</td>\n",
       "      <td>3633.0</td>\n",
       "      <td>296425.0</td>\n",
       "      <td>2005.0</td>\n",
       "      <td>6941.39</td>\n",
       "      <td>6037.0</td>\n",
       "      <td>2.341702</td>\n",
       "    </tr>\n",
       "    <tr>\n",
       "      <th>1</th>\n",
       "      <td>3.0</td>\n",
       "      <td>4.0</td>\n",
       "      <td>1620.0</td>\n",
       "      <td>847770.0</td>\n",
       "      <td>2011.0</td>\n",
       "      <td>10244.94</td>\n",
       "      <td>6037.0</td>\n",
       "      <td>1.208457</td>\n",
       "    </tr>\n",
       "    <tr>\n",
       "      <th>2</th>\n",
       "      <td>3.0</td>\n",
       "      <td>2.0</td>\n",
       "      <td>2077.0</td>\n",
       "      <td>646760.0</td>\n",
       "      <td>1926.0</td>\n",
       "      <td>7924.68</td>\n",
       "      <td>6037.0</td>\n",
       "      <td>1.225289</td>\n",
       "    </tr>\n",
       "    <tr>\n",
       "      <th>3</th>\n",
       "      <td>0.0</td>\n",
       "      <td>0.0</td>\n",
       "      <td>1200.0</td>\n",
       "      <td>5328.0</td>\n",
       "      <td>1972.0</td>\n",
       "      <td>91.60</td>\n",
       "      <td>6037.0</td>\n",
       "      <td>1.719219</td>\n",
       "    </tr>\n",
       "    <tr>\n",
       "      <th>4</th>\n",
       "      <td>0.0</td>\n",
       "      <td>0.0</td>\n",
       "      <td>171.0</td>\n",
       "      <td>6920.0</td>\n",
       "      <td>1973.0</td>\n",
       "      <td>255.17</td>\n",
       "      <td>6037.0</td>\n",
       "      <td>3.687428</td>\n",
       "    </tr>\n",
       "  </tbody>\n",
       "</table>\n",
       "</div>"
      ],
      "text/plain": [
       "   bedrooms  bathrooms   sq_ft  tax_value    year  tax_amount    fips  \\\n",
       "0       4.0        2.0  3633.0   296425.0  2005.0     6941.39  6037.0   \n",
       "1       3.0        4.0  1620.0   847770.0  2011.0    10244.94  6037.0   \n",
       "2       3.0        2.0  2077.0   646760.0  1926.0     7924.68  6037.0   \n",
       "3       0.0        0.0  1200.0     5328.0  1972.0       91.60  6037.0   \n",
       "4       0.0        0.0   171.0     6920.0  1973.0      255.17  6037.0   \n",
       "\n",
       "   tax_rate  \n",
       "0  2.341702  \n",
       "1  1.208457  \n",
       "2  1.225289  \n",
       "3  1.719219  \n",
       "4  3.687428  "
      ]
     },
     "execution_count": 4,
     "metadata": {},
     "output_type": "execute_result"
    }
   ],
   "source": [
    "# snip-it of df\n",
    "df.head()"
   ]
  },
  {
   "cell_type": "code",
   "execution_count": 5,
   "id": "679907e7",
   "metadata": {},
   "outputs": [
    {
     "data": {
      "text/plain": [
       "843039     952576.0\n",
       "1672841    531118.0\n",
       "1418774     63692.0\n",
       "823792      59220.0\n",
       "526830      52503.0\n",
       "             ...   \n",
       "1264871         1.0\n",
       "1996965         1.0\n",
       "1876700         1.0\n",
       "58072           1.0\n",
       "1346831         1.0\n",
       "Name: sq_ft, Length: 2130214, dtype: float64"
      ]
     },
     "execution_count": 5,
     "metadata": {},
     "output_type": "execute_result"
    }
   ],
   "source": [
    "# Looking for outliers. Will reomve 952k and 531k sq feet houses. \n",
    "df.sq_ft.sort_values(ascending=False)"
   ]
  },
  {
   "cell_type": "code",
   "execution_count": 6,
   "id": "1c215bed",
   "metadata": {},
   "outputs": [],
   "source": [
    "# Dropped the outliers\n",
    "df.drop(index=[843039, 1672841], inplace=True)"
   ]
  },
  {
   "cell_type": "code",
   "execution_count": 7,
   "id": "4ce39fd5",
   "metadata": {},
   "outputs": [
    {
     "data": {
      "text/plain": [
       "1418774    63692.0\n",
       "823792     59220.0\n",
       "526830     52503.0\n",
       "1315688    45891.0\n",
       "398701     42831.0\n",
       "            ...   \n",
       "1037839        1.0\n",
       "58072          1.0\n",
       "1346831        1.0\n",
       "1264871        1.0\n",
       "1876700        1.0\n",
       "Name: sq_ft, Length: 2130212, dtype: float64"
      ]
     },
     "execution_count": 7,
     "metadata": {},
     "output_type": "execute_result"
    }
   ],
   "source": [
    "# Verifying outliers have been eliminated\n",
    "df.sq_ft.sort_values(ascending=False)"
   ]
  },
  {
   "cell_type": "code",
   "execution_count": 8,
   "id": "394775ad",
   "metadata": {},
   "outputs": [
    {
     "data": {
      "text/plain": [
       "((1192918, 8), (511251, 8), (426043, 8))"
      ]
     },
     "execution_count": 8,
     "metadata": {},
     "output_type": "execute_result"
    }
   ],
   "source": [
    "train, val, test = p.split_data_continious(df)\n",
    "train.shape, val.shape, test.shape"
   ]
  },
  {
   "cell_type": "markdown",
   "id": "0a51a088",
   "metadata": {},
   "source": [
    "## Load Zillow dataset"
   ]
  },
  {
   "cell_type": "markdown",
   "id": "953a873e",
   "metadata": {},
   "source": [
    "Done."
   ]
  },
  {
   "cell_type": "markdown",
   "id": "599ebc45",
   "metadata": {},
   "source": [
    "## Fit a linear regression model (ordinary least squares) and compute yhat, predictions of taxvaluedollarcnt using only calculatedfinishedsqft."
   ]
  },
  {
   "cell_type": "markdown",
   "id": "0b6bcc3e",
   "metadata": {},
   "source": [
    "**assuming X and y are already defined**\n",
    "\n",
    "model = LinearRegression().fit(X, y)\n",
    "\n",
    "predictions = model.predict(X)\n",
    "\n",
    "Modify and add to the code above as necessary for it to work with the zillow dataset.\n"
   ]
  },
  {
   "cell_type": "code",
   "execution_count": 9,
   "id": "43ee56c5",
   "metadata": {},
   "outputs": [
    {
     "data": {
      "text/plain": [
       "461672.6077282764"
      ]
     },
     "execution_count": 9,
     "metadata": {},
     "output_type": "execute_result"
    }
   ],
   "source": [
    "# average house value\n",
    "train.tax_value.mean()"
   ]
  },
  {
   "cell_type": "code",
   "execution_count": 10,
   "id": "5237417a",
   "metadata": {},
   "outputs": [
    {
     "data": {
      "text/plain": [
       "1865.0631988116534"
      ]
     },
     "execution_count": 10,
     "metadata": {},
     "output_type": "execute_result"
    }
   ],
   "source": [
    "# average sq. ft. \n",
    "train.sq_ft.mean()"
   ]
  },
  {
   "cell_type": "code",
   "execution_count": 11,
   "id": "821858cb",
   "metadata": {},
   "outputs": [],
   "source": [
    "# df of house value and sq ft\n",
    "preds = train[['tax_value', 'sq_ft']]"
   ]
  },
  {
   "cell_type": "code",
   "execution_count": 12,
   "id": "1a940048",
   "metadata": {},
   "outputs": [
    {
     "data": {
      "text/html": [
       "<div>\n",
       "<style scoped>\n",
       "    .dataframe tbody tr th:only-of-type {\n",
       "        vertical-align: middle;\n",
       "    }\n",
       "\n",
       "    .dataframe tbody tr th {\n",
       "        vertical-align: top;\n",
       "    }\n",
       "\n",
       "    .dataframe thead th {\n",
       "        text-align: right;\n",
       "    }\n",
       "</style>\n",
       "<table border=\"1\" class=\"dataframe\">\n",
       "  <thead>\n",
       "    <tr style=\"text-align: right;\">\n",
       "      <th></th>\n",
       "      <th>tax_value</th>\n",
       "      <th>sq_ft</th>\n",
       "    </tr>\n",
       "  </thead>\n",
       "  <tbody>\n",
       "    <tr>\n",
       "      <th>908940</th>\n",
       "      <td>410889.0</td>\n",
       "      <td>1686.0</td>\n",
       "    </tr>\n",
       "    <tr>\n",
       "      <th>1209206</th>\n",
       "      <td>289844.0</td>\n",
       "      <td>1150.0</td>\n",
       "    </tr>\n",
       "    <tr>\n",
       "      <th>2057157</th>\n",
       "      <td>660660.0</td>\n",
       "      <td>2070.0</td>\n",
       "    </tr>\n",
       "    <tr>\n",
       "      <th>1189067</th>\n",
       "      <td>897971.0</td>\n",
       "      <td>2757.0</td>\n",
       "    </tr>\n",
       "    <tr>\n",
       "      <th>1726528</th>\n",
       "      <td>779863.0</td>\n",
       "      <td>2987.0</td>\n",
       "    </tr>\n",
       "  </tbody>\n",
       "</table>\n",
       "</div>"
      ],
      "text/plain": [
       "         tax_value   sq_ft\n",
       "908940    410889.0  1686.0\n",
       "1209206   289844.0  1150.0\n",
       "2057157   660660.0  2070.0\n",
       "1189067   897971.0  2757.0\n",
       "1726528   779863.0  2987.0"
      ]
     },
     "execution_count": 12,
     "metadata": {},
     "output_type": "execute_result"
    }
   ],
   "source": [
    "# snip-it of preds\n",
    "preds.head()"
   ]
  },
  {
   "cell_type": "code",
   "execution_count": 13,
   "id": "76d54ff3",
   "metadata": {},
   "outputs": [],
   "source": [
    "# create object\n",
    "ols_model = LinearRegression()"
   ]
  },
  {
   "cell_type": "code",
   "execution_count": 14,
   "id": "f32c8b6f",
   "metadata": {},
   "outputs": [
    {
     "data": {
      "text/html": [
       "<style>#sk-container-id-1 {color: black;background-color: white;}#sk-container-id-1 pre{padding: 0;}#sk-container-id-1 div.sk-toggleable {background-color: white;}#sk-container-id-1 label.sk-toggleable__label {cursor: pointer;display: block;width: 100%;margin-bottom: 0;padding: 0.3em;box-sizing: border-box;text-align: center;}#sk-container-id-1 label.sk-toggleable__label-arrow:before {content: \"▸\";float: left;margin-right: 0.25em;color: #696969;}#sk-container-id-1 label.sk-toggleable__label-arrow:hover:before {color: black;}#sk-container-id-1 div.sk-estimator:hover label.sk-toggleable__label-arrow:before {color: black;}#sk-container-id-1 div.sk-toggleable__content {max-height: 0;max-width: 0;overflow: hidden;text-align: left;background-color: #f0f8ff;}#sk-container-id-1 div.sk-toggleable__content pre {margin: 0.2em;color: black;border-radius: 0.25em;background-color: #f0f8ff;}#sk-container-id-1 input.sk-toggleable__control:checked~div.sk-toggleable__content {max-height: 200px;max-width: 100%;overflow: auto;}#sk-container-id-1 input.sk-toggleable__control:checked~label.sk-toggleable__label-arrow:before {content: \"▾\";}#sk-container-id-1 div.sk-estimator input.sk-toggleable__control:checked~label.sk-toggleable__label {background-color: #d4ebff;}#sk-container-id-1 div.sk-label input.sk-toggleable__control:checked~label.sk-toggleable__label {background-color: #d4ebff;}#sk-container-id-1 input.sk-hidden--visually {border: 0;clip: rect(1px 1px 1px 1px);clip: rect(1px, 1px, 1px, 1px);height: 1px;margin: -1px;overflow: hidden;padding: 0;position: absolute;width: 1px;}#sk-container-id-1 div.sk-estimator {font-family: monospace;background-color: #f0f8ff;border: 1px dotted black;border-radius: 0.25em;box-sizing: border-box;margin-bottom: 0.5em;}#sk-container-id-1 div.sk-estimator:hover {background-color: #d4ebff;}#sk-container-id-1 div.sk-parallel-item::after {content: \"\";width: 100%;border-bottom: 1px solid gray;flex-grow: 1;}#sk-container-id-1 div.sk-label:hover label.sk-toggleable__label {background-color: #d4ebff;}#sk-container-id-1 div.sk-serial::before {content: \"\";position: absolute;border-left: 1px solid gray;box-sizing: border-box;top: 0;bottom: 0;left: 50%;z-index: 0;}#sk-container-id-1 div.sk-serial {display: flex;flex-direction: column;align-items: center;background-color: white;padding-right: 0.2em;padding-left: 0.2em;position: relative;}#sk-container-id-1 div.sk-item {position: relative;z-index: 1;}#sk-container-id-1 div.sk-parallel {display: flex;align-items: stretch;justify-content: center;background-color: white;position: relative;}#sk-container-id-1 div.sk-item::before, #sk-container-id-1 div.sk-parallel-item::before {content: \"\";position: absolute;border-left: 1px solid gray;box-sizing: border-box;top: 0;bottom: 0;left: 50%;z-index: -1;}#sk-container-id-1 div.sk-parallel-item {display: flex;flex-direction: column;z-index: 1;position: relative;background-color: white;}#sk-container-id-1 div.sk-parallel-item:first-child::after {align-self: flex-end;width: 50%;}#sk-container-id-1 div.sk-parallel-item:last-child::after {align-self: flex-start;width: 50%;}#sk-container-id-1 div.sk-parallel-item:only-child::after {width: 0;}#sk-container-id-1 div.sk-dashed-wrapped {border: 1px dashed gray;margin: 0 0.4em 0.5em 0.4em;box-sizing: border-box;padding-bottom: 0.4em;background-color: white;}#sk-container-id-1 div.sk-label label {font-family: monospace;font-weight: bold;display: inline-block;line-height: 1.2em;}#sk-container-id-1 div.sk-label-container {text-align: center;}#sk-container-id-1 div.sk-container {/* jupyter's `normalize.less` sets `[hidden] { display: none; }` but bootstrap.min.css set `[hidden] { display: none !important; }` so we also need the `!important` here to be able to override the default hidden behavior on the sphinx rendered scikit-learn.org. See: https://github.com/scikit-learn/scikit-learn/issues/21755 */display: inline-block !important;position: relative;}#sk-container-id-1 div.sk-text-repr-fallback {display: none;}</style><div id=\"sk-container-id-1\" class=\"sk-top-container\"><div class=\"sk-text-repr-fallback\"><pre>LinearRegression()</pre><b>In a Jupyter environment, please rerun this cell to show the HTML representation or trust the notebook. <br />On GitHub, the HTML representation is unable to render, please try loading this page with nbviewer.org.</b></div><div class=\"sk-container\" hidden><div class=\"sk-item\"><div class=\"sk-estimator sk-toggleable\"><input class=\"sk-toggleable__control sk-hidden--visually\" id=\"sk-estimator-id-1\" type=\"checkbox\" checked><label for=\"sk-estimator-id-1\" class=\"sk-toggleable__label sk-toggleable__label-arrow\">LinearRegression</label><div class=\"sk-toggleable__content\"><pre>LinearRegression()</pre></div></div></div></div></div>"
      ],
      "text/plain": [
       "LinearRegression()"
      ]
     },
     "execution_count": 14,
     "metadata": {},
     "output_type": "execute_result"
    }
   ],
   "source": [
    "# fit object\n",
    "ols_model.fit(train[['sq_ft']], train[['tax_value']])"
   ]
  },
  {
   "cell_type": "markdown",
   "id": "618ca129",
   "metadata": {},
   "source": [
    "y^ = predictions(x-value)"
   ]
  },
  {
   "cell_type": "code",
   "execution_count": 15,
   "id": "24e50440",
   "metadata": {},
   "outputs": [],
   "source": [
    "preds['yhat'] = ols_model.predict(train[['sq_ft']])"
   ]
  },
  {
   "cell_type": "code",
   "execution_count": 16,
   "id": "1b10d04d",
   "metadata": {},
   "outputs": [
    {
     "data": {
      "image/png": "[encoded data removed]",
      "text/plain": [
       "<Figure size 640x480 with 1 Axes>"
      ]
     },
     "metadata": {},
     "output_type": "display_data"
    }
   ],
   "source": [
    "sns.scatterplot(x=preds.sq_ft, y=preds.tax_value)\n",
    "plt.xlim(0, 80000)\n",
    "plt.xlabel('Square Feet')\n",
    "plt.ylabel('Tax Value')\n",
    "plt.show()"
   ]
  },
  {
   "cell_type": "markdown",
   "id": "c0df7e5f",
   "metadata": {},
   "source": [
    "## Compute Residuals"
   ]
  },
  {
   "cell_type": "markdown",
   "id": "1bd1a690",
   "metadata": {},
   "source": [
    "preds minus actual"
   ]
  },
  {
   "cell_type": "code",
   "execution_count": 17,
   "id": "1a1872f4",
   "metadata": {},
   "outputs": [],
   "source": [
    "# Baseline\n",
    "preds['bs_preds'] = train.tax_value.mean()"
   ]
  },
  {
   "cell_type": "code",
   "execution_count": 18,
   "id": "5ce92951",
   "metadata": {},
   "outputs": [
    {
     "data": {
      "text/html": [
       "<div>\n",
       "<style scoped>\n",
       "    .dataframe tbody tr th:only-of-type {\n",
       "        vertical-align: middle;\n",
       "    }\n",
       "\n",
       "    .dataframe tbody tr th {\n",
       "        vertical-align: top;\n",
       "    }\n",
       "\n",
       "    .dataframe thead th {\n",
       "        text-align: right;\n",
       "    }\n",
       "</style>\n",
       "<table border=\"1\" class=\"dataframe\">\n",
       "  <thead>\n",
       "    <tr style=\"text-align: right;\">\n",
       "      <th></th>\n",
       "      <th>tax_value</th>\n",
       "      <th>sq_ft</th>\n",
       "      <th>yhat</th>\n",
       "      <th>bs_preds</th>\n",
       "    </tr>\n",
       "  </thead>\n",
       "  <tbody>\n",
       "    <tr>\n",
       "      <th>908940</th>\n",
       "      <td>410889.0</td>\n",
       "      <td>1686.0</td>\n",
       "      <td>385647.556594</td>\n",
       "      <td>461672.607728</td>\n",
       "    </tr>\n",
       "    <tr>\n",
       "      <th>1209206</th>\n",
       "      <td>289844.0</td>\n",
       "      <td>1150.0</td>\n",
       "      <td>158077.471402</td>\n",
       "      <td>461672.607728</td>\n",
       "    </tr>\n",
       "    <tr>\n",
       "      <th>2057157</th>\n",
       "      <td>660660.0</td>\n",
       "      <td>2070.0</td>\n",
       "      <td>548682.841507</td>\n",
       "      <td>461672.607728</td>\n",
       "    </tr>\n",
       "    <tr>\n",
       "      <th>1189067</th>\n",
       "      <td>897971.0</td>\n",
       "      <td>2757.0</td>\n",
       "      <td>840363.155922</td>\n",
       "      <td>461672.607728</td>\n",
       "    </tr>\n",
       "    <tr>\n",
       "      <th>1726528</th>\n",
       "      <td>779863.0</td>\n",
       "      <td>2987.0</td>\n",
       "      <td>938014.498448</td>\n",
       "      <td>461672.607728</td>\n",
       "    </tr>\n",
       "  </tbody>\n",
       "</table>\n",
       "</div>"
      ],
      "text/plain": [
       "         tax_value   sq_ft           yhat       bs_preds\n",
       "908940    410889.0  1686.0  385647.556594  461672.607728\n",
       "1209206   289844.0  1150.0  158077.471402  461672.607728\n",
       "2057157   660660.0  2070.0  548682.841507  461672.607728\n",
       "1189067   897971.0  2757.0  840363.155922  461672.607728\n",
       "1726528   779863.0  2987.0  938014.498448  461672.607728"
      ]
     },
     "execution_count": 18,
     "metadata": {},
     "output_type": "execute_result"
    }
   ],
   "source": [
    "preds.head()"
   ]
  },
  {
   "cell_type": "code",
   "execution_count": 19,
   "id": "fd5a5605",
   "metadata": {},
   "outputs": [],
   "source": [
    "# Baseline residuals\n",
    "preds['bs_res'] = preds['bs_preds'] - preds['tax_value']"
   ]
  },
  {
   "cell_type": "code",
   "execution_count": 20,
   "id": "a32fffdc",
   "metadata": {},
   "outputs": [],
   "source": [
    "# yhat residuals\n",
    "preds['yhat_res'] = preds['yhat'] - preds['tax_value']"
   ]
  },
  {
   "cell_type": "code",
   "execution_count": 21,
   "id": "65b8fc0b",
   "metadata": {},
   "outputs": [
    {
     "data": {
      "text/html": [
       "<div>\n",
       "<style scoped>\n",
       "    .dataframe tbody tr th:only-of-type {\n",
       "        vertical-align: middle;\n",
       "    }\n",
       "\n",
       "    .dataframe tbody tr th {\n",
       "        vertical-align: top;\n",
       "    }\n",
       "\n",
       "    .dataframe thead th {\n",
       "        text-align: right;\n",
       "    }\n",
       "</style>\n",
       "<table border=\"1\" class=\"dataframe\">\n",
       "  <thead>\n",
       "    <tr style=\"text-align: right;\">\n",
       "      <th></th>\n",
       "      <th>tax_value</th>\n",
       "      <th>sq_ft</th>\n",
       "      <th>yhat</th>\n",
       "      <th>bs_preds</th>\n",
       "      <th>bs_res</th>\n",
       "      <th>yhat_res</th>\n",
       "    </tr>\n",
       "  </thead>\n",
       "  <tbody>\n",
       "    <tr>\n",
       "      <th>908940</th>\n",
       "      <td>410889.0</td>\n",
       "      <td>1686.0</td>\n",
       "      <td>385647.556594</td>\n",
       "      <td>461672.607728</td>\n",
       "      <td>50783.607728</td>\n",
       "      <td>-25241.443406</td>\n",
       "    </tr>\n",
       "    <tr>\n",
       "      <th>1209206</th>\n",
       "      <td>289844.0</td>\n",
       "      <td>1150.0</td>\n",
       "      <td>158077.471402</td>\n",
       "      <td>461672.607728</td>\n",
       "      <td>171828.607728</td>\n",
       "      <td>-131766.528598</td>\n",
       "    </tr>\n",
       "    <tr>\n",
       "      <th>2057157</th>\n",
       "      <td>660660.0</td>\n",
       "      <td>2070.0</td>\n",
       "      <td>548682.841507</td>\n",
       "      <td>461672.607728</td>\n",
       "      <td>-198987.392272</td>\n",
       "      <td>-111977.158493</td>\n",
       "    </tr>\n",
       "    <tr>\n",
       "      <th>1189067</th>\n",
       "      <td>897971.0</td>\n",
       "      <td>2757.0</td>\n",
       "      <td>840363.155922</td>\n",
       "      <td>461672.607728</td>\n",
       "      <td>-436298.392272</td>\n",
       "      <td>-57607.844078</td>\n",
       "    </tr>\n",
       "    <tr>\n",
       "      <th>1726528</th>\n",
       "      <td>779863.0</td>\n",
       "      <td>2987.0</td>\n",
       "      <td>938014.498448</td>\n",
       "      <td>461672.607728</td>\n",
       "      <td>-318190.392272</td>\n",
       "      <td>158151.498448</td>\n",
       "    </tr>\n",
       "  </tbody>\n",
       "</table>\n",
       "</div>"
      ],
      "text/plain": [
       "         tax_value   sq_ft           yhat       bs_preds         bs_res  \\\n",
       "908940    410889.0  1686.0  385647.556594  461672.607728   50783.607728   \n",
       "1209206   289844.0  1150.0  158077.471402  461672.607728  171828.607728   \n",
       "2057157   660660.0  2070.0  548682.841507  461672.607728 -198987.392272   \n",
       "1189067   897971.0  2757.0  840363.155922  461672.607728 -436298.392272   \n",
       "1726528   779863.0  2987.0  938014.498448  461672.607728 -318190.392272   \n",
       "\n",
       "              yhat_res  \n",
       "908940   -25241.443406  \n",
       "1209206 -131766.528598  \n",
       "2057157 -111977.158493  \n",
       "1189067  -57607.844078  \n",
       "1726528  158151.498448  "
      ]
     },
     "execution_count": 21,
     "metadata": {},
     "output_type": "execute_result"
    }
   ],
   "source": [
    "preds.head()"
   ]
  },
  {
   "cell_type": "code",
   "execution_count": 22,
   "id": "8aecda81",
   "metadata": {},
   "outputs": [
    {
     "data": {
      "image/png": "[encoded data removed]",
      "text/plain": [
       "<Figure size 640x480 with 2 Axes>"
      ]
     },
     "metadata": {},
     "output_type": "display_data"
    }
   ],
   "source": [
    "plt.subplot(131)\n",
    "plt.scatter(x=preds.sq_ft, y=preds.bs_res)\n",
    "plt.xlabel('Square Feet')\n",
    "plt.ylabel('Baseline Prediction')\n",
    "\n",
    "\n",
    "\n",
    "plt.subplot(133)\n",
    "plt.scatter(x=preds.sq_ft, y=preds.yhat_res)\n",
    "plt.xlabel('Square Feet')\n",
    "plt.ylabel('yhat Prediction')\n",
    "plt.show()"
   ]
  },
  {
   "cell_type": "code",
   "execution_count": 23,
   "id": "7246fbea",
   "metadata": {},
   "outputs": [
    {
     "data": {
      "text/plain": [
       "63692.0"
      ]
     },
     "execution_count": 23,
     "metadata": {},
     "output_type": "execute_result"
    }
   ],
   "source": [
    "preds.sq_ft.max()"
   ]
  },
  {
   "cell_type": "markdown",
   "id": "9380fb17",
   "metadata": {},
   "source": [
    "##  Calculate the sum of squared errors, explained sum of squares, total sum of squares, mean squared error, and root mean squared error for your model."
   ]
  },
  {
   "cell_type": "markdown",
   "id": "fc22867a",
   "metadata": {},
   "source": [
    "SSE, MSE, RSME, ESS, TSS"
   ]
  },
  {
   "cell_type": "markdown",
   "id": "02b27f44",
   "metadata": {},
   "source": [
    "### SSE"
   ]
  },
  {
   "cell_type": "code",
   "execution_count": 24,
   "id": "5cf5b0b1",
   "metadata": {},
   "outputs": [
    {
     "data": {
      "text/html": [
       "<div>\n",
       "<style scoped>\n",
       "    .dataframe tbody tr th:only-of-type {\n",
       "        vertical-align: middle;\n",
       "    }\n",
       "\n",
       "    .dataframe tbody tr th {\n",
       "        vertical-align: top;\n",
       "    }\n",
       "\n",
       "    .dataframe thead th {\n",
       "        text-align: right;\n",
       "    }\n",
       "</style>\n",
       "<table border=\"1\" class=\"dataframe\">\n",
       "  <thead>\n",
       "    <tr style=\"text-align: right;\">\n",
       "      <th></th>\n",
       "      <th>tax_value</th>\n",
       "      <th>sq_ft</th>\n",
       "      <th>yhat</th>\n",
       "      <th>bs_preds</th>\n",
       "      <th>bs_res</th>\n",
       "      <th>yhat_res</th>\n",
       "      <th>bs_res_squared</th>\n",
       "      <th>yhat_res_squared</th>\n",
       "    </tr>\n",
       "  </thead>\n",
       "  <tbody>\n",
       "    <tr>\n",
       "      <th>908940</th>\n",
       "      <td>410889.0</td>\n",
       "      <td>1686.0</td>\n",
       "      <td>385647.556594</td>\n",
       "      <td>461672.607728</td>\n",
       "      <td>50783.607728</td>\n",
       "      <td>-25241.443406</td>\n",
       "      <td>2.578975e+09</td>\n",
       "      <td>6.371305e+08</td>\n",
       "    </tr>\n",
       "    <tr>\n",
       "      <th>1209206</th>\n",
       "      <td>289844.0</td>\n",
       "      <td>1150.0</td>\n",
       "      <td>158077.471402</td>\n",
       "      <td>461672.607728</td>\n",
       "      <td>171828.607728</td>\n",
       "      <td>-131766.528598</td>\n",
       "      <td>2.952507e+10</td>\n",
       "      <td>1.736242e+10</td>\n",
       "    </tr>\n",
       "    <tr>\n",
       "      <th>2057157</th>\n",
       "      <td>660660.0</td>\n",
       "      <td>2070.0</td>\n",
       "      <td>548682.841507</td>\n",
       "      <td>461672.607728</td>\n",
       "      <td>-198987.392272</td>\n",
       "      <td>-111977.158493</td>\n",
       "      <td>3.959598e+10</td>\n",
       "      <td>1.253888e+10</td>\n",
       "    </tr>\n",
       "    <tr>\n",
       "      <th>1189067</th>\n",
       "      <td>897971.0</td>\n",
       "      <td>2757.0</td>\n",
       "      <td>840363.155922</td>\n",
       "      <td>461672.607728</td>\n",
       "      <td>-436298.392272</td>\n",
       "      <td>-57607.844078</td>\n",
       "      <td>1.903563e+11</td>\n",
       "      <td>3.318664e+09</td>\n",
       "    </tr>\n",
       "    <tr>\n",
       "      <th>1726528</th>\n",
       "      <td>779863.0</td>\n",
       "      <td>2987.0</td>\n",
       "      <td>938014.498448</td>\n",
       "      <td>461672.607728</td>\n",
       "      <td>-318190.392272</td>\n",
       "      <td>158151.498448</td>\n",
       "      <td>1.012451e+11</td>\n",
       "      <td>2.501190e+10</td>\n",
       "    </tr>\n",
       "  </tbody>\n",
       "</table>\n",
       "</div>"
      ],
      "text/plain": [
       "         tax_value   sq_ft           yhat       bs_preds         bs_res  \\\n",
       "908940    410889.0  1686.0  385647.556594  461672.607728   50783.607728   \n",
       "1209206   289844.0  1150.0  158077.471402  461672.607728  171828.607728   \n",
       "2057157   660660.0  2070.0  548682.841507  461672.607728 -198987.392272   \n",
       "1189067   897971.0  2757.0  840363.155922  461672.607728 -436298.392272   \n",
       "1726528   779863.0  2987.0  938014.498448  461672.607728 -318190.392272   \n",
       "\n",
       "              yhat_res  bs_res_squared  yhat_res_squared  \n",
       "908940   -25241.443406    2.578975e+09      6.371305e+08  \n",
       "1209206 -131766.528598    2.952507e+10      1.736242e+10  \n",
       "2057157 -111977.158493    3.959598e+10      1.253888e+10  \n",
       "1189067  -57607.844078    1.903563e+11      3.318664e+09  \n",
       "1726528  158151.498448    1.012451e+11      2.501190e+10  "
      ]
     },
     "execution_count": 24,
     "metadata": {},
     "output_type": "execute_result"
    }
   ],
   "source": [
    "# Residuals Squared. Next step is to add them all\n",
    "preds['bs_res_squared'] = preds['bs_res'] ** 2\n",
    "preds['yhat_res_squared'] = preds['yhat_res'] ** 2\n",
    "preds.head()"
   ]
  },
  {
   "cell_type": "code",
   "execution_count": 26,
   "id": "4976f662",
   "metadata": {},
   "outputs": [
    {
     "data": {
      "text/plain": [
       "(5.477918679078105e+17, 3.436662304664989e+17)"
      ]
     },
     "execution_count": 26,
     "metadata": {},
     "output_type": "execute_result"
    }
   ],
   "source": [
    "# SSE values stored in variables\n",
    "sse_bs = preds.bs_res_squared.sum()\n",
    "sse_yhat = preds.yhat_res_squared.sum()\n",
    "sse_bs, sse_yhat"
   ]
  },
  {
   "cell_type": "markdown",
   "id": "a1e73f86",
   "metadata": {},
   "source": [
    "### MSE\n"
   ]
  },
  {
   "cell_type": "markdown",
   "id": "be4f4ccd",
   "metadata": {},
   "source": [
    "Divide SSE by number of data points"
   ]
  },
  {
   "cell_type": "code",
   "execution_count": 27,
   "id": "5cf78260",
   "metadata": {},
   "outputs": [
    {
     "data": {
      "text/plain": [
       "(459203287994.48956, 288088729037.9547)"
      ]
     },
     "execution_count": 27,
     "metadata": {},
     "output_type": "execute_result"
    }
   ],
   "source": [
    "mse_baseline = sse_bs / len(preds)\n",
    "mse_yhat = sse_yhat / len(preds)\n",
    "mse_baseline, mse_yhat"
   ]
  },
  {
   "cell_type": "markdown",
   "id": "73e90743",
   "metadata": {},
   "source": [
    "### RMSE"
   ]
  },
  {
   "cell_type": "markdown",
   "id": "ca4876ed",
   "metadata": {},
   "source": [
    "square root of the MSE"
   ]
  },
  {
   "cell_type": "code",
   "execution_count": 67,
   "id": "439e0f16",
   "metadata": {},
   "outputs": [
    {
     "data": {
      "text/plain": [
       "677645.3998917794"
      ]
     },
     "execution_count": 67,
     "metadata": {},
     "output_type": "execute_result"
    }
   ],
   "source": [
    "mean_squared_error(preds.tax_value, preds.bs_preds, squared=False)\n"
   ]
  },
  {
   "cell_type": "code",
   "execution_count": 68,
   "id": "2ad16b80",
   "metadata": {},
   "outputs": [
    {
     "data": {
      "text/plain": [
       "536738.976633852"
      ]
     },
     "execution_count": 68,
     "metadata": {},
     "output_type": "execute_result"
    }
   ],
   "source": [
    "mean_squared_error(preds.tax_value, preds.yhat, squared=False)"
   ]
  },
  {
   "cell_type": "code",
   "execution_count": 30,
   "id": "fb9b8d10",
   "metadata": {},
   "outputs": [
    {
     "data": {
      "text/plain": [
       "459808.57676693855"
      ]
     },
     "execution_count": 30,
     "metadata": {},
     "output_type": "execute_result"
    }
   ],
   "source": [
    "# Manualing checking RMSE for baseline predictions.\n",
    "sqrt(mean_squared_error(preds['sq_ft'], preds['bs_preds']))"
   ]
  },
  {
   "cell_type": "markdown",
   "id": "f7f9def6",
   "metadata": {},
   "source": [
    "### ESS"
   ]
  },
  {
   "cell_type": "markdown",
   "id": "40155739",
   "metadata": {},
   "source": [
    "Predictions minus mean of actual values --> Squared and Summed"
   ]
  },
  {
   "cell_type": "code",
   "execution_count": 33,
   "id": "ec8ec6ea",
   "metadata": {},
   "outputs": [],
   "source": [
    "# Predictions(y^) minus mean of actual values(bs predictions)\n",
    "preds['yhat_mean_res'] = preds['yhat'] - preds['bs_preds']"
   ]
  },
  {
   "cell_type": "code",
   "execution_count": 34,
   "id": "54ffaaf9",
   "metadata": {},
   "outputs": [
    {
     "data": {
      "text/html": [
       "<div>\n",
       "<style scoped>\n",
       "    .dataframe tbody tr th:only-of-type {\n",
       "        vertical-align: middle;\n",
       "    }\n",
       "\n",
       "    .dataframe tbody tr th {\n",
       "        vertical-align: top;\n",
       "    }\n",
       "\n",
       "    .dataframe thead th {\n",
       "        text-align: right;\n",
       "    }\n",
       "</style>\n",
       "<table border=\"1\" class=\"dataframe\">\n",
       "  <thead>\n",
       "    <tr style=\"text-align: right;\">\n",
       "      <th></th>\n",
       "      <th>tax_value</th>\n",
       "      <th>sq_ft</th>\n",
       "      <th>yhat</th>\n",
       "      <th>bs_preds</th>\n",
       "      <th>bs_res</th>\n",
       "      <th>yhat_res</th>\n",
       "      <th>bs_res_squared</th>\n",
       "      <th>yhat_res_squared</th>\n",
       "      <th>yhat_mean_res</th>\n",
       "    </tr>\n",
       "  </thead>\n",
       "  <tbody>\n",
       "    <tr>\n",
       "      <th>908940</th>\n",
       "      <td>410889.0</td>\n",
       "      <td>1686.0</td>\n",
       "      <td>385647.556594</td>\n",
       "      <td>461672.607728</td>\n",
       "      <td>50783.607728</td>\n",
       "      <td>-25241.443406</td>\n",
       "      <td>2.578975e+09</td>\n",
       "      <td>6.371305e+08</td>\n",
       "      <td>-76025.051135</td>\n",
       "    </tr>\n",
       "    <tr>\n",
       "      <th>1209206</th>\n",
       "      <td>289844.0</td>\n",
       "      <td>1150.0</td>\n",
       "      <td>158077.471402</td>\n",
       "      <td>461672.607728</td>\n",
       "      <td>171828.607728</td>\n",
       "      <td>-131766.528598</td>\n",
       "      <td>2.952507e+10</td>\n",
       "      <td>1.736242e+10</td>\n",
       "      <td>-303595.136326</td>\n",
       "    </tr>\n",
       "    <tr>\n",
       "      <th>2057157</th>\n",
       "      <td>660660.0</td>\n",
       "      <td>2070.0</td>\n",
       "      <td>548682.841507</td>\n",
       "      <td>461672.607728</td>\n",
       "      <td>-198987.392272</td>\n",
       "      <td>-111977.158493</td>\n",
       "      <td>3.959598e+10</td>\n",
       "      <td>1.253888e+10</td>\n",
       "      <td>87010.233779</td>\n",
       "    </tr>\n",
       "    <tr>\n",
       "      <th>1189067</th>\n",
       "      <td>897971.0</td>\n",
       "      <td>2757.0</td>\n",
       "      <td>840363.155922</td>\n",
       "      <td>461672.607728</td>\n",
       "      <td>-436298.392272</td>\n",
       "      <td>-57607.844078</td>\n",
       "      <td>1.903563e+11</td>\n",
       "      <td>3.318664e+09</td>\n",
       "      <td>378690.548194</td>\n",
       "    </tr>\n",
       "    <tr>\n",
       "      <th>1726528</th>\n",
       "      <td>779863.0</td>\n",
       "      <td>2987.0</td>\n",
       "      <td>938014.498448</td>\n",
       "      <td>461672.607728</td>\n",
       "      <td>-318190.392272</td>\n",
       "      <td>158151.498448</td>\n",
       "      <td>1.012451e+11</td>\n",
       "      <td>2.501190e+10</td>\n",
       "      <td>476341.890720</td>\n",
       "    </tr>\n",
       "  </tbody>\n",
       "</table>\n",
       "</div>"
      ],
      "text/plain": [
       "         tax_value   sq_ft           yhat       bs_preds         bs_res  \\\n",
       "908940    410889.0  1686.0  385647.556594  461672.607728   50783.607728   \n",
       "1209206   289844.0  1150.0  158077.471402  461672.607728  171828.607728   \n",
       "2057157   660660.0  2070.0  548682.841507  461672.607728 -198987.392272   \n",
       "1189067   897971.0  2757.0  840363.155922  461672.607728 -436298.392272   \n",
       "1726528   779863.0  2987.0  938014.498448  461672.607728 -318190.392272   \n",
       "\n",
       "              yhat_res  bs_res_squared  yhat_res_squared  yhat_mean_res  \n",
       "908940   -25241.443406    2.578975e+09      6.371305e+08  -76025.051135  \n",
       "1209206 -131766.528598    2.952507e+10      1.736242e+10 -303595.136326  \n",
       "2057157 -111977.158493    3.959598e+10      1.253888e+10   87010.233779  \n",
       "1189067  -57607.844078    1.903563e+11      3.318664e+09  378690.548194  \n",
       "1726528  158151.498448    1.012451e+11      2.501190e+10  476341.890720  "
      ]
     },
     "execution_count": 34,
     "metadata": {},
     "output_type": "execute_result"
    }
   ],
   "source": [
    "preds.head()"
   ]
  },
  {
   "cell_type": "code",
   "execution_count": 37,
   "id": "5c47a19b",
   "metadata": {},
   "outputs": [],
   "source": [
    "# Square the result of yhat - bs preds\n",
    "preds['yhat_mean_res_squared'] = preds['yhat_mean_res'] ** 2"
   ]
  },
  {
   "cell_type": "code",
   "execution_count": 38,
   "id": "0aeb3578",
   "metadata": {},
   "outputs": [
    {
     "data": {
      "text/html": [
       "<div>\n",
       "<style scoped>\n",
       "    .dataframe tbody tr th:only-of-type {\n",
       "        vertical-align: middle;\n",
       "    }\n",
       "\n",
       "    .dataframe tbody tr th {\n",
       "        vertical-align: top;\n",
       "    }\n",
       "\n",
       "    .dataframe thead th {\n",
       "        text-align: right;\n",
       "    }\n",
       "</style>\n",
       "<table border=\"1\" class=\"dataframe\">\n",
       "  <thead>\n",
       "    <tr style=\"text-align: right;\">\n",
       "      <th></th>\n",
       "      <th>tax_value</th>\n",
       "      <th>sq_ft</th>\n",
       "      <th>yhat</th>\n",
       "      <th>bs_preds</th>\n",
       "      <th>bs_res</th>\n",
       "      <th>yhat_res</th>\n",
       "      <th>bs_res_squared</th>\n",
       "      <th>yhat_res_squared</th>\n",
       "      <th>yhat_mean_res</th>\n",
       "      <th>yhat_mean_res_squared</th>\n",
       "    </tr>\n",
       "  </thead>\n",
       "  <tbody>\n",
       "    <tr>\n",
       "      <th>908940</th>\n",
       "      <td>410889.0</td>\n",
       "      <td>1686.0</td>\n",
       "      <td>385647.556594</td>\n",
       "      <td>461672.607728</td>\n",
       "      <td>50783.607728</td>\n",
       "      <td>-25241.443406</td>\n",
       "      <td>2.578975e+09</td>\n",
       "      <td>6.371305e+08</td>\n",
       "      <td>-76025.051135</td>\n",
       "      <td>5.779808e+09</td>\n",
       "    </tr>\n",
       "    <tr>\n",
       "      <th>1209206</th>\n",
       "      <td>289844.0</td>\n",
       "      <td>1150.0</td>\n",
       "      <td>158077.471402</td>\n",
       "      <td>461672.607728</td>\n",
       "      <td>171828.607728</td>\n",
       "      <td>-131766.528598</td>\n",
       "      <td>2.952507e+10</td>\n",
       "      <td>1.736242e+10</td>\n",
       "      <td>-303595.136326</td>\n",
       "      <td>9.217001e+10</td>\n",
       "    </tr>\n",
       "    <tr>\n",
       "      <th>2057157</th>\n",
       "      <td>660660.0</td>\n",
       "      <td>2070.0</td>\n",
       "      <td>548682.841507</td>\n",
       "      <td>461672.607728</td>\n",
       "      <td>-198987.392272</td>\n",
       "      <td>-111977.158493</td>\n",
       "      <td>3.959598e+10</td>\n",
       "      <td>1.253888e+10</td>\n",
       "      <td>87010.233779</td>\n",
       "      <td>7.570781e+09</td>\n",
       "    </tr>\n",
       "    <tr>\n",
       "      <th>1189067</th>\n",
       "      <td>897971.0</td>\n",
       "      <td>2757.0</td>\n",
       "      <td>840363.155922</td>\n",
       "      <td>461672.607728</td>\n",
       "      <td>-436298.392272</td>\n",
       "      <td>-57607.844078</td>\n",
       "      <td>1.903563e+11</td>\n",
       "      <td>3.318664e+09</td>\n",
       "      <td>378690.548194</td>\n",
       "      <td>1.434065e+11</td>\n",
       "    </tr>\n",
       "    <tr>\n",
       "      <th>1726528</th>\n",
       "      <td>779863.0</td>\n",
       "      <td>2987.0</td>\n",
       "      <td>938014.498448</td>\n",
       "      <td>461672.607728</td>\n",
       "      <td>-318190.392272</td>\n",
       "      <td>158151.498448</td>\n",
       "      <td>1.012451e+11</td>\n",
       "      <td>2.501190e+10</td>\n",
       "      <td>476341.890720</td>\n",
       "      <td>2.269016e+11</td>\n",
       "    </tr>\n",
       "  </tbody>\n",
       "</table>\n",
       "</div>"
      ],
      "text/plain": [
       "         tax_value   sq_ft           yhat       bs_preds         bs_res  \\\n",
       "908940    410889.0  1686.0  385647.556594  461672.607728   50783.607728   \n",
       "1209206   289844.0  1150.0  158077.471402  461672.607728  171828.607728   \n",
       "2057157   660660.0  2070.0  548682.841507  461672.607728 -198987.392272   \n",
       "1189067   897971.0  2757.0  840363.155922  461672.607728 -436298.392272   \n",
       "1726528   779863.0  2987.0  938014.498448  461672.607728 -318190.392272   \n",
       "\n",
       "              yhat_res  bs_res_squared  yhat_res_squared  yhat_mean_res  \\\n",
       "908940   -25241.443406    2.578975e+09      6.371305e+08  -76025.051135   \n",
       "1209206 -131766.528598    2.952507e+10      1.736242e+10 -303595.136326   \n",
       "2057157 -111977.158493    3.959598e+10      1.253888e+10   87010.233779   \n",
       "1189067  -57607.844078    1.903563e+11      3.318664e+09  378690.548194   \n",
       "1726528  158151.498448    1.012451e+11      2.501190e+10  476341.890720   \n",
       "\n",
       "         yhat_mean_res_squared  \n",
       "908940            5.779808e+09  \n",
       "1209206           9.217001e+10  \n",
       "2057157           7.570781e+09  \n",
       "1189067           1.434065e+11  \n",
       "1726528           2.269016e+11  "
      ]
     },
     "execution_count": 38,
     "metadata": {},
     "output_type": "execute_result"
    }
   ],
   "source": [
    "preds.head()"
   ]
  },
  {
   "cell_type": "code",
   "execution_count": 40,
   "id": "0bff8447",
   "metadata": {},
   "outputs": [
    {
     "data": {
      "text/plain": [
       "2.041256374413846e+17"
      ]
     },
     "execution_count": 40,
     "metadata": {},
     "output_type": "execute_result"
    }
   ],
   "source": [
    "# Add the squared results\n",
    "ess_bs = 0\n",
    "ess_yhat = preds['yhat_mean_res_squared'].sum()\n",
    "ess_yhat"
   ]
  },
  {
   "cell_type": "markdown",
   "id": "2167a24f",
   "metadata": {},
   "source": [
    "### TSS"
   ]
  },
  {
   "cell_type": "markdown",
   "id": "3bb33432",
   "metadata": {},
   "source": [
    "SSE + ESS"
   ]
  },
  {
   "cell_type": "code",
   "execution_count": 42,
   "id": "817be684",
   "metadata": {},
   "outputs": [
    {
     "data": {
      "text/plain": [
       "(5.477918679078105e+17, 5.477918679078835e+17)"
      ]
     },
     "execution_count": 42,
     "metadata": {},
     "output_type": "execute_result"
    }
   ],
   "source": [
    "tss_bs = sse_bs + ess_bs\n",
    "tss_yhat = sse_yhat + ess_yhat\n",
    "tss_bs, tss_yhat"
   ]
  },
  {
   "cell_type": "markdown",
   "id": "be04ebaf",
   "metadata": {},
   "source": [
    "## Calculate the sum of squared errors, mean squared error, and root mean squared error for the baseline model (i.e. a model that always predicts the average taxvaluedollarcnt amount)."
   ]
  },
  {
   "cell_type": "markdown",
   "id": "5f8474b0",
   "metadata": {},
   "source": [
    "Completed while doing Question 4. "
   ]
  },
  {
   "cell_type": "markdown",
   "id": "df004d36",
   "metadata": {},
   "source": [
    "## Write python code that compares the sum of squared errors for your model against the sum of squared errors for the baseline model and outputs whether or not your model performs better than the baseline model."
   ]
  },
  {
   "cell_type": "code",
   "execution_count": 51,
   "id": "6fb43b4c",
   "metadata": {},
   "outputs": [
    {
     "name": "stdout",
     "output_type": "stream",
     "text": [
      "Model is better\n"
     ]
    }
   ],
   "source": [
    "if sse_bs < sse_yhat:\n",
    "    print('Baseline is better')\n",
    "else:\n",
    "    print ('Model is better')"
   ]
  },
  {
   "cell_type": "markdown",
   "id": "d8d971d9",
   "metadata": {},
   "source": [
    "## What is the amount of variance explained in your model?"
   ]
  },
  {
   "cell_type": "code",
   "execution_count": 49,
   "id": "0632ae1d",
   "metadata": {},
   "outputs": [
    {
     "data": {
      "text/plain": [
       "0.372633566505709"
      ]
     },
     "execution_count": 49,
     "metadata": {},
     "output_type": "execute_result"
    }
   ],
   "source": [
    "explained_variance_score(preds['tax_value'], preds['yhat'])"
   ]
  },
  {
   "cell_type": "markdown",
   "id": "b9091ddd",
   "metadata": {},
   "source": [
    "## Is your model better than the baseline model?"
   ]
  },
  {
   "cell_type": "markdown",
   "id": "55fa4dd3",
   "metadata": {},
   "source": [
    "Yes, model is better than the baseline"
   ]
  },
  {
   "cell_type": "markdown",
   "id": "bdd6bfc1",
   "metadata": {},
   "source": [
    "## Create a file named evaluate.py that contains the following functions."
   ]
  },
  {
   "cell_type": "code",
   "execution_count": 61,
   "id": "b38e9b9d",
   "metadata": {},
   "outputs": [],
   "source": [
    "def plot_residuals(y, yhat):\n",
    "    \n",
    "    sns.scatterplot(x=y, y=(yhat-y))\n",
    "    plt.xlabel('Tax Value')\n",
    "    plt.ylabel('Residuals')\n",
    "    plt.show()"
   ]
  },
  {
   "cell_type": "code",
   "execution_count": 62,
   "id": "800dc26a",
   "metadata": {},
   "outputs": [
    {
     "data": {
      "image/png": "[encoded data removed]",
      "text/plain": [
       "<Figure size 640x480 with 1 Axes>"
      ]
     },
     "metadata": {},
     "output_type": "display_data"
    }
   ],
   "source": [
    "plot_residuals(preds.tax_value, preds.yhat_mean_res)"
   ]
  },
  {
   "cell_type": "code",
   "execution_count": 87,
   "id": "3fc6a8f7",
   "metadata": {},
   "outputs": [],
   "source": [
    "def regression_errors(y, yhat):\n",
    "    \n",
    "    mse = mean_squared_error(y, yhat)\n",
    "    rmse = mean_squared_error(y, yhat, squared=False)\n",
    "    sse= mse * len(y)\n",
    "    ess = yhat-y.mean()\n",
    "    ess = ess ** 2\n",
    "    ess = ess.sum()\n",
    "    tss = ess + sse\n",
    "    \n",
    "    print(f'''\n",
    "        SSE: {sse}\n",
    "        MSE: {mse}\n",
    "        RMSE: {rmse}\n",
    "        ESS: {ess}\n",
    "        TSS: {tss}\n",
    "    ''')\n",
    "    \n",
    "    return mse, rmse, sse, ess, tss\n",
    "    \n",
    "    "
   ]
  },
  {
   "cell_type": "code",
   "execution_count": 88,
   "id": "1c577ba5",
   "metadata": {},
   "outputs": [
    {
     "name": "stdout",
     "output_type": "stream",
     "text": [
      "\n",
      "        SSE: 3.436662304664989e+17\n",
      "        MSE: 288088729037.9547\n",
      "        RMSE: 536738.976633852\n",
      "        ESS: 2.041256374413846e+17\n",
      "        TSS: 5.477918679078835e+17\n",
      "    \n"
     ]
    },
    {
     "data": {
      "text/plain": [
       "(288088729037.9547,\n",
       " 536738.976633852,\n",
       " 3.436662304664989e+17,\n",
       " 2.041256374413846e+17,\n",
       " 5.477918679078835e+17)"
      ]
     },
     "execution_count": 88,
     "metadata": {},
     "output_type": "execute_result"
    }
   ],
   "source": [
    "regression_errors(preds.tax_value, preds.yhat)"
   ]
  },
  {
   "cell_type": "code",
   "execution_count": 89,
   "id": "d3783d18",
   "metadata": {},
   "outputs": [],
   "source": [
    "def baseline_mean_errors(y):\n",
    "    \n",
    "    baseline = np.repeat(y.mean(), len(preds))\n",
    "    \n",
    "    mse= mean_squared_error(y, baseline)\n",
    "    sse = mse * len(y)\n",
    "    rmse = mean_squared_error(y, baseline, squared=False)\n",
    "    \n",
    "    print(f'''\n",
    "        SSE: {sse}\n",
    "        MSE: {mse}\n",
    "        RMSE: {rmse}\n",
    "    ''')\n",
    "    \n",
    "    return mse, sse, rmse\n",
    "\n",
    "    "
   ]
  },
  {
   "cell_type": "code",
   "execution_count": 90,
   "id": "3c4766e1",
   "metadata": {},
   "outputs": [
    {
     "name": "stdout",
     "output_type": "stream",
     "text": [
      "\n",
      "        SSE: 5.477918679078105e+17\n",
      "        MSE: 459203287994.48956\n",
      "        RMSE: 677645.3998917794\n",
      "    \n"
     ]
    },
    {
     "data": {
      "text/plain": [
       "(459203287994.48956, 5.477918679078105e+17, 677645.3998917794)"
      ]
     },
     "execution_count": 90,
     "metadata": {},
     "output_type": "execute_result"
    }
   ],
   "source": [
    "baseline_mean_errors(preds.tax_value)"
   ]
  },
  {
   "cell_type": "code",
   "execution_count": 84,
   "id": "11ca856b",
   "metadata": {},
   "outputs": [],
   "source": [
    "def better_than_baseline(y, yhat):\n",
    "    \n",
    "    sse, mse, rmse, ess, tss = regression_errors(y, yhat)\n",
    "    \n",
    "    mse_base, sse_base, rmse_base = baseline_mean_errors(y)\n",
    "    \n",
    "    if sse_base < sse_yhat:\n",
    "        print('Baseline is better')\n",
    "    else:\n",
    "        print ('Model is better')"
   ]
  },
  {
   "cell_type": "code",
   "execution_count": 85,
   "id": "2d7f5cce",
   "metadata": {},
   "outputs": [
    {
     "name": "stdout",
     "output_type": "stream",
     "text": [
      "Model is better\n"
     ]
    }
   ],
   "source": [
    "better_than_baseline(preds.tax_value, preds.yhat)"
   ]
  },
  {
   "cell_type": "code",
   "execution_count": null,
   "id": "d5e340f8",
   "metadata": {},
   "outputs": [],
   "source": []
  }
 ],
 "metadata": {
  "kernelspec": {
   "display_name": "Python 3 (ipykernel)",
   "language": "python",
   "name": "python3"
  },
  "language_info": {
   "codemirror_mode": {
    "name": "ipython",
    "version": 3
   },
   "file_extension": ".py",
   "mimetype": "text/x-python",
   "name": "python",
   "nbconvert_exporter": "python",
   "pygments_lexer": "ipython3",
   "version": "3.9.15"
  },
  "toc": {
   "base_numbering": 1,
   "nav_menu": {},
   "number_sections": true,
   "sideBar": true,
   "skip_h1_title": false,
   "title_cell": "Table of Contents",
   "title_sidebar": "Contents",
   "toc_cell": false,
   "toc_position": {},
   "toc_section_display": true,
   "toc_window_display": false
  }
 },
 "nbformat": 4,
 "nbformat_minor": 5
}
